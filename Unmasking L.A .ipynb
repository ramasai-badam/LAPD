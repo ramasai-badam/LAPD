{
 "cells": [
  {
   "cell_type": "code",
   "execution_count": null,
   "id": "548828b8",
   "metadata": {},
   "outputs": [],
   "source": [
    "import pandas as pd\n",
    "pd.set_option('display.max_columns', None)"
   ]
  },
  {
   "cell_type": "markdown",
   "id": "d553b8aa",
   "metadata": {},
   "source": [
    "IMPORTING DATA"
   ]
  },
  {
   "cell_type": "code",
   "execution_count": null,
   "id": "58820620",
   "metadata": {},
   "outputs": [],
   "source": [
    "data = pd.read_csv('E:\\Downloads\\Crime_Data_from_2020_to_Present.csv')\n"
   ]
  },
  {
   "cell_type": "code",
   "execution_count": null,
   "id": "19398906",
   "metadata": {},
   "outputs": [],
   "source": [
    "print(data.head)"
   ]
  },
  {
   "cell_type": "code",
   "execution_count": null,
   "id": "c52ad91b",
   "metadata": {},
   "outputs": [],
   "source": [
    "data.dtypes"
   ]
  },
  {
   "cell_type": "markdown",
   "id": "6a74f2f3",
   "metadata": {},
   "source": [
    "1. Both the dates reported and occured are in string format. Converting them to datetime object. (if incase we are going to use the data for predictive modeling.)\n",
    "2. the date reported and date occured both of them have dummy time along with date which is 12:00:00 AM, which isn't useful, so removing the time in the date occured column\n",
    "3. Time occured has a separate column when the crime has occured, converting that from military format to standard format.\n"
   ]
  },
  {
   "cell_type": "code",
   "execution_count": null,
   "id": "5cb4d9ba",
   "metadata": {},
   "outputs": [],
   "source": [
    "# Convert datetime_column to datetime format\n",
    "# data['datetime_column'] = pd.to_datetime(data['datetime_column'], format='%m/%d/%Y %I:%M:%S %p')\n",
    "\n",
    "data['DATE OCC'] = pd.to_datetime(data['DATE OCC'], format='%m/%d/%Y %I:%M:%S %p')\n",
    "\n",
    "# Extract date part\n",
    "data['DATE OCC'] = data['DATE OCC'].dt.date\n",
    "\n",
    "# Print the result\n",
    "print(data['DATE OCC'])\n"
   ]
  },
  {
   "cell_type": "code",
   "execution_count": null,
   "id": "ad323634",
   "metadata": {},
   "outputs": [],
   "source": [
    "# converted the string time to datetime object with only the date leaving the dummy time information\n",
    "\n",
    "type(data['DATE OCC'][0])"
   ]
  },
  {
   "cell_type": "markdown",
   "id": "8e404391",
   "metadata": {},
   "source": [
    "As the time occured was saved in military time, there are bound to be single digits let's say time of occurence of crime was 12:01 AM, in military time it's 0001 which might cause problems when converting military to standard format."
   ]
  },
  {
   "cell_type": "code",
   "execution_count": null,
   "id": "23ff5979",
   "metadata": {},
   "outputs": [],
   "source": [
    "\n",
    "\n",
    "data['TIME OCC'][data['TIME OCC'].astype(str).str.len() < 3].value_counts()"
   ]
  },
  {
   "cell_type": "markdown",
   "id": "941dbcb3",
   "metadata": {},
   "source": [
    "1. As I thought all the single and double digits are representing the minutes when its past 12 AM. If we carefully observe the numbers they do not exceed 59 as they are representing the minutes.\n",
    "2. so we need to convert the `data[TIME OCC]` column from integer to string and pad the minutes with zeroes, so that we can convert the military time to standard format without any errors."
   ]
  },
  {
   "cell_type": "code",
   "execution_count": null,
   "id": "8d704c42",
   "metadata": {},
   "outputs": [],
   "source": [
    "# converting the integer type to string\n",
    "data['TIME OCC'] = data['TIME OCC'].astype(str) \n",
    "\n",
    "# padding the empty space with zeroes\n",
    "data['TIME OCC'] = data['TIME OCC'].apply(lambda x: x.zfill(4) if len(x) < 3 else x)\n"
   ]
  },
  {
   "cell_type": "code",
   "execution_count": null,
   "id": "7de27058",
   "metadata": {},
   "outputs": [],
   "source": [
    "#converting the time occured from military format to standard format.\n",
    "\n",
    "# Convert 'time_column' to datetime with format '%H%M'\n",
    "data['TIME OCC'] = pd.to_datetime(data['TIME OCC'], format='%H%M')\n",
    "\n",
    "# Format time in H:M AM/PM format\n",
    "data['TIME OCC'] = data['TIME OCC'].dt.strftime('%I:%M %p')\n",
    "\n",
    "# Print the DataFrame with converted time column\n",
    "print(data['TIME OCC'] )\n"
   ]
  },
  {
   "cell_type": "code",
   "execution_count": null,
   "id": "babc4361",
   "metadata": {
    "scrolled": true
   },
   "outputs": [],
   "source": [
    "# combining both date and time occured into one column\n",
    "# Convert 'date_column' to datetime format\n",
    "data['DATE OCC'] = pd.to_datetime(data['DATE OCC'])\n",
    "\n",
    "# Convert combined column to datetime format\n",
    "data['DATETIME_OCC'] = data['DATE OCC'].dt.strftime('%Y-%m-%d') + ' ' + data['TIME OCC']\n",
    "\n",
    "# Convert combined column to datetime format\n",
    "data['DATETIME_OCC'] = pd.to_datetime(data['DATETIME_OCC'], format='%Y-%m-%d %I:%M %p')\n",
    "\n",
    "# Print the DataFrame with combined datetime column\n",
    "print(data['DATETIME_OCC'])"
   ]
  },
  {
   "cell_type": "code",
   "execution_count": null,
   "id": "c129f1e5",
   "metadata": {
    "scrolled": true
   },
   "outputs": [],
   "source": [
    "data.head()"
   ]
  },
  {
   "cell_type": "markdown",
   "id": "a10106a2",
   "metadata": {},
   "source": [
    "Can we make use of Mocodes ? \n",
    "\n",
    "For the analysis I am trying to perform, Mocodes wouldn't be of that much help as a crime can have any motive, so a motive can lead to any kind of crimes. But to make it easier I will be using Crm Code description which gives us an idea of what the crime is about. For now i will be discarding the Mocodes column as some observations have 1 value and some have at most 10. If i were to convert that to OHE, the data would be too sparse."
   ]
  },
  {
   "cell_type": "code",
   "execution_count": null,
   "id": "072aa253",
   "metadata": {},
   "outputs": [],
   "source": [
    "data['Mocodes'].value_counts()"
   ]
  },
  {
   "cell_type": "markdown",
   "id": "df52a3bc",
   "metadata": {},
   "source": [
    "`Mocodes` have 295296 unique values, which would be difficult to identify the category the crimes come under"
   ]
  },
  {
   "cell_type": "code",
   "execution_count": null,
   "id": "985fc350",
   "metadata": {},
   "outputs": [],
   "source": [
    "data['Crm Cd Desc'].value_counts()"
   ]
  },
  {
   "cell_type": "markdown",
   "id": "38776554",
   "metadata": {},
   "source": [
    "But the `Crm Cd Desc` have ony 139 unique values which would be lot easier to categorize the crime "
   ]
  },
  {
   "cell_type": "code",
   "execution_count": null,
   "id": "2db0b2f4",
   "metadata": {},
   "outputs": [],
   "source": [
    "data['Premis Desc'].value_counts()"
   ]
  },
  {
   "cell_type": "code",
   "execution_count": null,
   "id": "67679e89",
   "metadata": {},
   "outputs": [],
   "source": [
    "data['Premis Cd'].value_counts()"
   ]
  },
  {
   "cell_type": "code",
   "execution_count": null,
   "id": "56279267",
   "metadata": {},
   "outputs": [],
   "source": [
    "data['Weapon Desc'].value_counts()"
   ]
  },
  {
   "cell_type": "markdown",
   "id": "b3967c09",
   "metadata": {},
   "source": [
    "Leaving the columns with description as it's easier to figure out rather than the codes"
   ]
  },
  {
   "cell_type": "code",
   "execution_count": null,
   "id": "26efab58",
   "metadata": {},
   "outputs": [],
   "source": [
    "data.columns"
   ]
  },
  {
   "cell_type": "code",
   "execution_count": null,
   "id": "fab3d713",
   "metadata": {},
   "outputs": [],
   "source": [
    "data['Cross Street'].isna().value_counts()"
   ]
  },
  {
   "cell_type": "markdown",
   "id": "8845cb11",
   "metadata": {},
   "source": [
    "`Cross Street` has mostly null values so dropping it."
   ]
  },
  {
   "cell_type": "code",
   "execution_count": null,
   "id": "f3458818",
   "metadata": {},
   "outputs": [],
   "source": [
    "data['LOCATION'].value_counts()"
   ]
  },
  {
   "cell_type": "code",
   "execution_count": null,
   "id": "92e8b5ff",
   "metadata": {},
   "outputs": [],
   "source": [
    "data['AREA NAME'].value_counts()"
   ]
  },
  {
   "cell_type": "code",
   "execution_count": null,
   "id": "73f51df5",
   "metadata": {},
   "outputs": [],
   "source": [
    "data['Rpt Dist No'].value_counts()"
   ]
  },
  {
   "cell_type": "markdown",
   "id": "6ec94beb",
   "metadata": {},
   "source": [
    "1. dropping `DATE OCC` and `TIME OCC` as we have a combined column in standard format\n",
    "2. dropping the crime codes 1,2,3,4 as the Crm Cd has the code for crime commited and other crime codes are less serious.\n"
   ]
  },
  {
   "cell_type": "code",
   "execution_count": null,
   "id": "abd24b33",
   "metadata": {},
   "outputs": [],
   "source": [
    "\n",
    "data.drop(columns=['DR_NO','Part 1-2','Premis Cd','Weapon Used Cd',\n",
    "                   'Status Desc','Cross Street','Crm Cd 1', 'Crm Cd 2',\n",
    "                   'Crm Cd 3', 'Crm Cd 4', 'Crm Cd', 'AREA', 'DATE OCC', 'TIME OCC','Mocodes'],inplace=True, axis=1)"
   ]
  },
  {
   "cell_type": "code",
   "execution_count": null,
   "id": "6d4f4efe",
   "metadata": {},
   "outputs": [],
   "source": [
    "data.columns"
   ]
  },
  {
   "cell_type": "code",
   "execution_count": null,
   "id": "f01e6407",
   "metadata": {},
   "outputs": [],
   "source": [
    "data.head()"
   ]
  },
  {
   "cell_type": "code",
   "execution_count": null,
   "id": "52811a21",
   "metadata": {
    "scrolled": true
   },
   "outputs": [],
   "source": [
    "data[data['Weapon Desc'].isna()]"
   ]
  },
  {
   "cell_type": "markdown",
   "id": "12fc09df",
   "metadata": {},
   "source": [
    "1. There are lot of observations where the weapon used was not known. For some crimes the weapon itself doesn't make sense. For Ex : theft of identity , it can happen in anyway either offline or online. we will fill the NaNs with string `Unknown`"
   ]
  },
  {
   "cell_type": "code",
   "execution_count": null,
   "id": "d67d3bf3",
   "metadata": {},
   "outputs": [],
   "source": [
    "# fillig the weapon as unknown\n",
    "# as the same description already exists, i am using the same text\n",
    "data['Weapon Desc'] = data['Weapon Desc'].fillna('UNKNOWN WEAPON/OTHER WEAPON')"
   ]
  },
  {
   "cell_type": "code",
   "execution_count": null,
   "id": "c4893c1e",
   "metadata": {},
   "outputs": [],
   "source": [
    "data['Weapon Desc'].isna().value_counts()"
   ]
  },
  {
   "cell_type": "code",
   "execution_count": null,
   "id": "57873fbc",
   "metadata": {
    "scrolled": true
   },
   "outputs": [],
   "source": [
    "data.head()"
   ]
  },
  {
   "cell_type": "markdown",
   "id": "8da52061",
   "metadata": {},
   "source": [
    "Why do we have Age as zero ?"
   ]
  },
  {
   "cell_type": "code",
   "execution_count": null,
   "id": "78dbcf64",
   "metadata": {},
   "outputs": [],
   "source": [
    "# we have many rows with victim age as zero\n",
    "pd.Series(data['Vict Age']==0).value_counts()"
   ]
  },
  {
   "cell_type": "code",
   "execution_count": null,
   "id": "574b3258",
   "metadata": {},
   "outputs": [],
   "source": [
    "data[data['Vict Age'] == 0]"
   ]
  },
  {
   "cell_type": "code",
   "execution_count": null,
   "id": "ddb4f3b9",
   "metadata": {},
   "outputs": [],
   "source": [
    "data['Crm Cd Desc'][data['Vict Age'] == 0].value_counts()"
   ]
  },
  {
   "cell_type": "code",
   "execution_count": null,
   "id": "ea119756",
   "metadata": {},
   "outputs": [],
   "source": [
    "data['Vict Sex'] = data['Vict Sex'].fillna('X')"
   ]
  },
  {
   "cell_type": "code",
   "execution_count": null,
   "id": "21ce05d5",
   "metadata": {},
   "outputs": [],
   "source": [
    "# X indicates unknown \n",
    "data['Vict Descent'] = data['Vict Descent'].fillna('X')"
   ]
  },
  {
   "cell_type": "code",
   "execution_count": null,
   "id": "6b48a8fa",
   "metadata": {},
   "outputs": [],
   "source": [
    "data['Vict Descent'].value_counts()"
   ]
  },
  {
   "cell_type": "markdown",
   "id": "1c59497b",
   "metadata": {},
   "source": [
    "What should we do about the Age being 0 ? Most likely 0 would be representing the Age as Unknown"
   ]
  },
  {
   "cell_type": "code",
   "execution_count": null,
   "id": "0a785827",
   "metadata": {},
   "outputs": [],
   "source": [
    "data[data['Vict Age'] == 0]"
   ]
  },
  {
   "cell_type": "code",
   "execution_count": null,
   "id": "c91a262b",
   "metadata": {},
   "outputs": [],
   "source": [
    "data.isnull().sum()"
   ]
  },
  {
   "cell_type": "markdown",
   "id": "38fa962e",
   "metadata": {},
   "source": [
    "we have 550 observations that do not have the premis where the crime occured. Lets fill it with unknown"
   ]
  },
  {
   "cell_type": "code",
   "execution_count": null,
   "id": "ef200672",
   "metadata": {},
   "outputs": [],
   "source": [
    "data['Premis Desc'] = data['Premis Desc'].fillna('Unknown')"
   ]
  },
  {
   "cell_type": "code",
   "execution_count": null,
   "id": "808ef89a",
   "metadata": {},
   "outputs": [],
   "source": [
    "data.isnull().sum()"
   ]
  },
  {
   "cell_type": "code",
   "execution_count": null,
   "id": "4049d19a",
   "metadata": {},
   "outputs": [],
   "source": [
    "# some records have 0 for coordinates, will fill them in the later part when plotting maps.\n",
    "data[data['LON'] == 0]"
   ]
  },
  {
   "cell_type": "code",
   "execution_count": null,
   "id": "c6582991",
   "metadata": {},
   "outputs": [],
   "source": [
    "data.head()"
   ]
  },
  {
   "cell_type": "markdown",
   "id": "7bb57621",
   "metadata": {},
   "source": [
    "1. LA is divided into 21 geographical areas\n",
    "2. Each area has sub divisions called districts\n",
    "3. Also have locations which are present in the districts.\n",
    "4. LAT, LON to pinpoint the crime location (nearest 10oth block to preserve privacy)"
   ]
  },
  {
   "cell_type": "markdown",
   "id": "d63f395d",
   "metadata": {},
   "source": [
    "# Analysis"
   ]
  },
  {
   "cell_type": "markdown",
   "id": "9895f367",
   "metadata": {},
   "source": [
    "## **Temporal Analysis**\n"
   ]
  },
  {
   "cell_type": "markdown",
   "id": "e9d200d9",
   "metadata": {},
   "source": [
    "### What is the trend in the number of reported crimes over time (Date Rptd)?"
   ]
  },
  {
   "cell_type": "code",
   "execution_count": null,
   "id": "019d3588",
   "metadata": {},
   "outputs": [],
   "source": [
    "data.dtypes"
   ]
  },
  {
   "cell_type": "code",
   "execution_count": null,
   "id": "83ed3227",
   "metadata": {},
   "outputs": [],
   "source": [
    "# grouping the crimes by month and year to plot crimes by each month of the respective year\n",
    "\n",
    "#extract the month and year from the data\n",
    "data['month'] = data['DATETIME_OCC'].dt.month\n",
    "data['year'] = data['DATETIME_OCC'].dt.year"
   ]
  },
  {
   "cell_type": "code",
   "execution_count": null,
   "id": "40174b2c",
   "metadata": {},
   "outputs": [],
   "source": [
    "# only taking data ffrom 2020 to 2023 as theyu are complete\n",
    "\n",
    "data = data[data['year'] != 2024]"
   ]
  },
  {
   "cell_type": "code",
   "execution_count": null,
   "id": "ee2fa596",
   "metadata": {},
   "outputs": [],
   "source": [
    "crime_count = data.groupby(['year', 'month'])['DATETIME_OCC'].count().reset_index()\n"
   ]
  },
  {
   "cell_type": "code",
   "execution_count": null,
   "id": "8ff0b83a",
   "metadata": {},
   "outputs": [],
   "source": [
    "# renamin the column to crimes\n",
    "\n",
    "crime_count = crime_count.rename(columns={'DATETIME_OCC':'crimes'})"
   ]
  },
  {
   "cell_type": "code",
   "execution_count": null,
   "id": "52ac6124",
   "metadata": {},
   "outputs": [],
   "source": [
    "import seaborn as sns\n",
    "import matplotlib.pyplot as plt\n",
    "\n",
    "plt.figure(figsize=(14,8))\n",
    "# Create the bar plot with Seaborn\n",
    "ax = sns.lineplot(x=\"month\", y=\"crimes\", hue=\"year\", data=crime_count, palette='tab10',linewidth=2.5)\n",
    "\n",
    "# for container in ax.containers:\n",
    "#     ax.bar_label(container, rotation=55)\n",
    "\n",
    "months = ['JAN', 'FEB', 'MAR', 'APR', 'MAY', 'JUN', 'JUL', 'AUG', 'SEP', 'OCT', 'NOV', 'DEC']\n",
    "\n",
    "    \n",
    "plt.xlabel('Month', fontsize= 16)\n",
    "plt.xticks(range(1,13), months, fontsize= 16)\n",
    "plt.yticks(fontsize= 16)\n",
    "plt.ylabel('Number of Crimes',  fontsize= 16)\n",
    "plt.title('Crimes by Month for each year (2020-2023)', fontsize= 16)\n",
    "plt.tight_layout()\n",
    "plt.legend(bbox_to_anchor=(1.02, 1), loc='upper left', borderaxespad=0, fontsize= 16)\n",
    "sns.despine()\n",
    "plt.show()"
   ]
  },
  {
   "cell_type": "code",
   "execution_count": null,
   "id": "b4f30db1",
   "metadata": {},
   "outputs": [],
   "source": [
    "# Filter the dataset for the years 2020 to 2023\n",
    "crime_data_2020 = data[data['year'] == 2020]\n",
    "crime_data_2021 = data[data['year'] == 2021]\n",
    "crime_data_2022 = data[data['year'] == 2022]\n",
    "crime_data_2023 = data[data['year'] == 2023]\n",
    "\n",
    "# Calculate the total number of crimes for each year\n",
    "total_crimes_2020 = len(crime_data_2020)\n",
    "total_crimes_2021 = len(crime_data_2021)\n",
    "total_crimes_2022 = len(crime_data_2022)\n",
    "total_crimes_2023 = len(crime_data_2023)\n",
    "\n",
    "# Total number of crimes by year\n",
    "years = [2020, 2021, 2022, 2023]\n",
    "total_crimes = [total_crimes_2020, total_crimes_2021, total_crimes_2022, total_crimes_2023]\n",
    "\n",
    "# Create the line plot\n",
    "plt.figure(figsize=(12, 8))\n",
    "ax = sns.lineplot(x=years, y=total_crimes, marker='o', linewidth=2.5)\n",
    "\n",
    "years = [2020,2021,2022,2023]\n",
    "# Add labels and title\n",
    "plt.xlabel('Year')\n",
    "plt.ylabel('Total Number of Crimes')\n",
    "plt.xticks(range(min(years), max(years) + 1, 1))\n",
    "for i, (year, crime_count) in enumerate(zip(years, total_crimes)):\n",
    "    plt.annotate(f'{crime_count}', (year, crime_count), textcoords=\"offset points\", xytext=(0,10), ha='center')\n",
    "plt.title('Total Number of Crimes by Year (2020-2023)')\n",
    "\n",
    "\n",
    "plt.show()"
   ]
  },
  {
   "cell_type": "code",
   "execution_count": null,
   "id": "9facc8bf",
   "metadata": {},
   "outputs": [],
   "source": [
    "\"\"\"import seaborn as sns\n",
    "import matplotlib.pyplot as plt\n",
    "\n",
    "plt.figure(figsize=(10, 8))\n",
    "\n",
    "# Create the horizontal bar plot with Seaborn\n",
    "ax = sns.barplot(x=\"crimes\", y=\"month\", hue=\"year\", data=crime_count, orient='h')\n",
    "\n",
    "# Add labels to the bars\n",
    "for container in ax.containers:\n",
    "    ax.bar_label(container, fmt='%.0f', padding=3,fontsize=8)\n",
    "\n",
    "months = ['JAN', 'FEB', 'MAR', 'APR', 'MAY', 'JUN', 'JUL', 'AUG', 'SEP', 'OCT', 'NOV', 'DEC']\n",
    "\n",
    "plt.xlabel('Number of Crimes', fontsize=12)\n",
    "plt.yticks(range(len(months)), months)\n",
    "plt.ylabel('Month', fontsize=12)\n",
    "plt.title('Monthly Crime Trends Over the Years', fontsize=12)\n",
    "plt.legend(bbox_to_anchor=(1.02, 1), loc='upper left', borderaxespad=0)\n",
    "plt.tight_layout()\n",
    "sns.despine()\n",
    "plt.show()\n",
    "\"\"\""
   ]
  },
  {
   "cell_type": "code",
   "execution_count": null,
   "id": "f110fbd4",
   "metadata": {},
   "outputs": [],
   "source": [
    "crime_count"
   ]
  },
  {
   "cell_type": "code",
   "execution_count": null,
   "id": "f12fdd1d",
   "metadata": {},
   "outputs": [],
   "source": [
    "#### Is there any seasonality in the occurrence of crimes based on the date of occurrence (DATE OCC)?"
   ]
  },
  {
   "cell_type": "code",
   "execution_count": null,
   "id": "ae9d8ee9",
   "metadata": {},
   "outputs": [],
   "source": [
    "!pip install --upgrade holidays"
   ]
  },
  {
   "cell_type": "code",
   "execution_count": null,
   "id": "d2581205",
   "metadata": {},
   "outputs": [],
   "source": [
    "from datetime import date \n",
    "import holidays as hds"
   ]
  },
  {
   "cell_type": "code",
   "execution_count": null,
   "id": "9536cced",
   "metadata": {},
   "outputs": [],
   "source": [
    "# getting holiday for California state, USA\n",
    "us_ca_holidays = hds.country_holidays('US', subdiv='CA')"
   ]
  },
  {
   "cell_type": "code",
   "execution_count": null,
   "id": "8ebbf56e",
   "metadata": {},
   "outputs": [],
   "source": [
    "# Define function to check if date is a holiday\n",
    "def is_holiday(date):\n",
    "    return date.date() in us_ca_holidays\n",
    "\n",
    "# Apply function to each row in DATETIME_OCC column\n",
    "data['is_holiday'] = data['DATETIME_OCC'].apply(is_holiday)"
   ]
  },
  {
   "cell_type": "code",
   "execution_count": null,
   "id": "cbcc8dd7",
   "metadata": {},
   "outputs": [],
   "source": [
    "# Define a function to check if a given date is a Saturday or Sunday\n",
    "def is_weekend(date):\n",
    "    return date.weekday() in [5, 6]  # 5 represents Saturday, 6 represents Sunday\n",
    "\n",
    "# Apply the function to each date in the DATETIME_OCC column and create a new column\n",
    "data['is_weekend'] = data['DATETIME_OCC'].apply(is_weekend)"
   ]
  },
  {
   "cell_type": "code",
   "execution_count": null,
   "id": "a61f4bb9",
   "metadata": {},
   "outputs": [],
   "source": [
    "data['Week'] = data['DATETIME_OCC'].dt.isocalendar().week\n",
    "data['DayOfWeek'] = data['DATETIME_OCC'].dt.day_name()\n",
    "weekly_crime_counts = data.groupby(['year', 'Week', 'DayOfWeek']).size().unstack(fill_value=0)\n",
    "\n",
    "# Plot a graph for each day of the week for every year separately\n",
    "days_of_week = ['Monday', 'Tuesday', 'Wednesday', 'Thursday', 'Friday', 'Saturday', 'Sunday']\n",
    "for day in days_of_week:\n",
    "    plt.figure(figsize=(10, 6))\n",
    "    for year in weekly_crime_counts.index.levels[0]:\n",
    "        year_data = weekly_crime_counts.loc[year]\n",
    "        plt.plot(year_data.index, year_data[day], label=year)\n",
    "    plt.title(f'Crimes on {day}s')\n",
    "    plt.xlabel('Week')\n",
    "    plt.ylabel('Number of Crimes')\n",
    "    plt.legend()\n",
    "    plt.grid(True)\n",
    "    plt.tight_layout()\n",
    "    plt.show()"
   ]
  },
  {
   "cell_type": "code",
   "execution_count": null,
   "id": "339608bf",
   "metadata": {},
   "outputs": [],
   "source": [
    "import numpy as np\n",
    "# Group by year and day of the week, and count crimes\n",
    "crime_counts = data.groupby(['year', 'DayOfWeek']).size().unstack(fill_value=0)\n",
    "crime_counts = crime_counts[['Monday', 'Tuesday', 'Wednesday', 'Thursday', 'Friday', 'Saturday', 'Sunday']]\n",
    "# Plot grouped bar plot\n",
    "num_years = len(crime_counts.index)\n",
    "num_days = len(crime_counts.columns)\n",
    "\n",
    "bar_width = 0.8 / num_days  # Adjust the width of each bar\n",
    "\n",
    "plt.figure(figsize=(12, 6))\n",
    "\n",
    "for i, day in enumerate(crime_counts.columns):\n",
    "    positions = np.arange(num_years) + (i - num_days / 2 + 0.5) * bar_width\n",
    "    plt.bar(positions, crime_counts[day], width=bar_width, label=day)\n",
    "\n",
    "plt.title('Total Crimes by Day of the Week for Each Year', fontsize=12)\n",
    "plt.xlabel('Year', fontsize=12)\n",
    "plt.ylabel('Total Number of Crimes', fontsize=12)\n",
    "plt.xticks(np.arange(num_years), crime_counts.index)\n",
    "plt.legend()\n",
    "plt.tight_layout()\n",
    "sns.despine()\n",
    "plt.legend(bbox_to_anchor=(1.02, 1), loc='upper left', borderaxespad=0)\n",
    "plt.show()"
   ]
  },
  {
   "cell_type": "code",
   "execution_count": null,
   "id": "d012366a",
   "metadata": {},
   "outputs": [],
   "source": [
    "import numpy as np\n",
    "import pandas as pd\n",
    "import matplotlib.pyplot as plt\n",
    "\n",
    "# Assuming 'data' is your DataFrame containing crime data\n",
    "\n",
    "# Group by year and day of the week, and count crimes\n",
    "crime_counts = data.groupby(['year', 'DayOfWeek']).size().unstack(fill_value=0)\n",
    "\n",
    "# Calculate total crimes for each day of the week within each year\n",
    "total_crimes_per_day_per_year = crime_counts.sum(axis=0)\n",
    "\n",
    "# Plot grouped bar chart\n",
    "num_years = len(crime_counts.index)\n",
    "num_days = len(crime_counts.columns)\n",
    "bar_width = 0.8 / num_days  # Adjust the width of each bar\n",
    "\n",
    "plt.figure(figsize=(12, 8))\n",
    "\n",
    "for i, day in enumerate(crime_counts.columns):\n",
    "    # Reverse the order of positions to plot bars in reverse order within each group\n",
    "    positions = np.arange(num_years) + (num_days / 2 - i - 0.5) * bar_width\n",
    "    bars = plt.barh(positions, crime_counts[day], height=bar_width, label=day)  # Use colormap index\n",
    "    \n",
    "    # Add labels to each bar\n",
    "    for bar in bars:\n",
    "        width = bar.get_width()\n",
    "        plt.text(width + 200, bar.get_y() + bar.get_height()/2 , f'{int(width)}', ha='left', va='center')\n",
    "\n",
    "plt.title('Crimes by Day of the Week for Each Year', fontsize=12)\n",
    "plt.ylabel('Year', fontsize=12)\n",
    "plt.xlabel('Number of Crimes', fontsize=12)\n",
    "plt.yticks(np.arange(num_years), crime_counts.index)\n",
    "plt.legend()\n",
    "plt.tight_layout()\n",
    "sns.despine()\n",
    "plt.show()\n"
   ]
  },
  {
   "cell_type": "code",
   "execution_count": null,
   "id": "7b37e3db",
   "metadata": {},
   "outputs": [],
   "source": [
    "data.groupby(['year', 'DayOfWeek']).size().unstack(fill_value=0)"
   ]
  },
  {
   "cell_type": "code",
   "execution_count": null,
   "id": "3c25dcfc",
   "metadata": {},
   "outputs": [],
   "source": [
    "import numpy as np\n",
    "import pandas as pd\n",
    "import matplotlib.pyplot as plt\n",
    "\n",
    "# Assuming 'data' is your DataFrame containing crime data\n",
    "\n",
    "# Group by year and day of the week, and count crimes\n",
    "crime_counts = data.groupby(['year', 'DayOfWeek']).size().unstack(fill_value=0)\n",
    "crime_counts = crime_counts[['Monday', 'Tuesday', 'Wednesday','Thursday','Friday','Saturday','Sunday']]\n",
    "# Calculate total crimes for each day of the week within each year\n",
    "total_crimes_per_day_per_year = crime_counts.sum(axis=0)\n",
    "\n",
    "# Plot line chart\n",
    "num_years = len(crime_counts.index)\n",
    "num_days = len(crime_counts.columns)\n",
    "\n",
    "plt.figure(figsize=(12, 8))\n",
    "\n",
    "for i, day in enumerate(crime_counts.columns):\n",
    "    # Plot line for each day of the week\n",
    "    plt.plot(crime_counts.index, crime_counts[day], label=day, linewidth=2.5)\n",
    "\n",
    "plt.title('Crimes by Day of the Week for Each Year (2020-2023)', fontsize=16)\n",
    "plt.ylabel('Number of Crimes', fontsize=16)\n",
    "plt.xlabel('Year', fontsize=16)\n",
    "plt.xticks( crime_counts.index, fontsize=16)\n",
    "plt.yticks( fontsize=16)\n",
    "plt.legend(fontsize=16)\n",
    "plt.tight_layout()\n",
    "sns.despine()\n",
    "plt.show()\n"
   ]
  },
  {
   "cell_type": "code",
   "execution_count": null,
   "id": "220bd13a",
   "metadata": {},
   "outputs": [],
   "source": [
    "crime_counts[['Monday', 'Tuesday', 'Wednesday','Thursday','Friday','Saturday','Sunday']]"
   ]
  },
  {
   "cell_type": "code",
   "execution_count": null,
   "id": "5095fcb7",
   "metadata": {},
   "outputs": [],
   "source": [
    "# crime_counts.iloc[0].to_list()\n",
    "#adding each years counts by week into list\n",
    "crime_by_year_by_days = []\n",
    "for x in range(4):\n",
    "    crime_by_year_by_days.append(crime_counts.iloc[x].to_list())"
   ]
  },
  {
   "cell_type": "code",
   "execution_count": null,
   "id": "6bfe006c",
   "metadata": {},
   "outputs": [],
   "source": [
    "crime_by_year_by_days"
   ]
  },
  {
   "cell_type": "code",
   "execution_count": null,
   "id": "abfa051c",
   "metadata": {},
   "outputs": [],
   "source": [
    "# creating a separate dataframe for holiday crime data\n",
    "crime_on_holidays = data[data['is_holiday'] == True]"
   ]
  },
  {
   "cell_type": "code",
   "execution_count": null,
   "id": "b2034f0c",
   "metadata": {},
   "outputs": [],
   "source": [
    "crime_on_holidays = crime_on_holidays.sort_values(by='DATETIME_OCC')"
   ]
  },
  {
   "cell_type": "code",
   "execution_count": null,
   "id": "0de617d5",
   "metadata": {},
   "outputs": [],
   "source": [
    "crime_on_holidays['date_occ'] = crime_on_holidays['DATETIME_OCC'].dt.date"
   ]
  },
  {
   "cell_type": "code",
   "execution_count": null,
   "id": "869e7532",
   "metadata": {},
   "outputs": [],
   "source": [
    "crime_on_holidays = crime_on_holidays['date_occ'].value_counts().to_frame(name='crimes').reset_index().sort_values(by='date_occ')"
   ]
  },
  {
   "cell_type": "code",
   "execution_count": null,
   "id": "03060390",
   "metadata": {},
   "outputs": [],
   "source": [
    "# the holiday list only contains days such as new years, thanksgiving, etc. \n",
    "#Doesn't include saturday and sunday\n",
    "\n",
    "plt.figure(figsize=(12,8))\n",
    "# Create the bar plot with Seaborn\n",
    "ax = sns.barplot(x=\"date_occ\", y=\"crimes\",data=crime_on_holidays)\n",
    "\n",
    "for container in ax.containers:\n",
    "    ax.bar_label(container,  rotation=50)\n",
    "\n",
    "plt.xlabel('Hours of the day', fontsize=12)\n",
    "plt.ylabel('Number of Crimes', fontsize=12)\n",
    "plt.title('Number of Crimes - US Holidays', fontsize=12)\n",
    "plt.xticks(rotation = 45, ha='right')\n",
    "plt.yticks(fontsize=12)\n",
    "plt.tight_layout()\n",
    "plt.show()"
   ]
  },
  {
   "cell_type": "code",
   "execution_count": null,
   "id": "6a952d4f",
   "metadata": {},
   "outputs": [],
   "source": [
    "import numpy as np\n",
    "import pandas as pd\n",
    "import seaborn as sns\n",
    "import matplotlib.pyplot as plt\n",
    "\n",
    "# Assuming 'data' is your DataFrame containing crime data\n",
    "\n",
    "# Creating a separate dataframe for holiday crime data\n",
    "crime_on_holidays = data[data['is_holiday'] == True]\n",
    "crime_on_holidays = crime_on_holidays.sort_values(by='DATETIME_OCC')\n",
    "crime_on_holidays['date_occ'] = crime_on_holidays['DATETIME_OCC'].dt.date\n",
    "crime_on_holidays = crime_on_holidays['date_occ'].value_counts().to_frame(name='crimes').reset_index().sort_values(by='crimes', ascending=False)\n",
    "\n",
    "# Color palette based on threshold\n",
    "crime_counts = crime_on_holidays['crimes'].tolist()\n",
    "colors = ['red' if count > 800 else 'skyblue' for count in crime_counts]\n",
    "\n",
    "# Plot\n",
    "plt.figure(figsize=(12, 8))\n",
    "\n",
    "# Horizontal bar plot with Seaborn\n",
    "ax = sns.barplot(x=\"crimes\", y=\"date_occ\", data=crime_on_holidays, palette=colors)\n",
    "\n",
    "# Get crime counts as a list for labeling\n",
    "crime_counts = crime_on_holidays['crimes'].tolist()\n",
    "\n",
    "# Add labels on top of each bar\n",
    "for i, bar in enumerate(ax.containers[0]):\n",
    "  # Offset label position slightly to avoid overlapping with bars\n",
    "  x_pos = bar.get_width() + 10  # Adjust offset as needed\n",
    "  plt.text(x_pos, bar.get_y() + bar.get_height() / 2, crime_counts[i], \n",
    "           ha='left', va='center', fontsize=10)  # Adjust alignment and font size\n",
    "\n",
    "# Rotate x-axis labels for better readability\n",
    "plt.xticks(rotation=0, ha='right')  # Set rotation to 0 and horizontal alignment to 'right'\n",
    "\n",
    "# Adjust labels and title\n",
    "plt.xlabel('Number of Crimes', fontsize=14)\n",
    "plt.ylabel('Date', fontsize=14)\n",
    "plt.xticks(fontsize=14)\n",
    "plt.yticks(fontsize=9)\n",
    "plt.title('Number of Crimes during US Holidays', fontsize=14)\n",
    "\n",
    "# Customize grid and layout\n",
    "# plt.grid(axis='x', linestyle='--', alpha=0.6)  # Add horizontal grid lines\n",
    "plt.tight_layout()\n",
    "sns.despine()\n",
    "plt.show()\n"
   ]
  },
  {
   "cell_type": "code",
   "execution_count": null,
   "id": "7ccf73df",
   "metadata": {},
   "outputs": [],
   "source": [
    "data.columns"
   ]
  },
  {
   "cell_type": "code",
   "execution_count": null,
   "id": "b5f26bf0",
   "metadata": {},
   "outputs": [],
   "source": [
    "import pandas as pd\n",
    "\n",
    "# Assuming 'data' is your DataFrame containing the crime data\n",
    "\n",
    "# Group data by year, day of the week, and holiday status, and calculate the average number of crimes\n",
    "average_crimes_by_dayofweek = data.groupby(['year', 'DayOfWeek', 'is_holiday']).size().to_frame(name='count').reset_index()\n",
    "\n",
    "# Filter for each year (2020-2023) separately\n",
    "for year in range(2020, 2024):\n",
    "    year_data = average_crimes_by_dayofweek[average_crimes_by_dayofweek['year'] == year]\n",
    "    \n",
    "    # Print average number of crimes for each day of the week when it's a holiday versus not a holiday\n",
    "    print(f\"Year {year}:\")\n",
    "    for holiday_status in [True, False]:\n",
    "        holiday_label = 'Holiday' if holiday_status else 'Not a Holiday'\n",
    "        holiday_data = year_data[year_data['is_holiday'] == holiday_status]\n",
    "        print(f\"\\n{holiday_label}:\")\n",
    "        print(holiday_data[['DayOfWeek', 'count']])\n"
   ]
  },
  {
   "cell_type": "code",
   "execution_count": null,
   "id": "7584261e",
   "metadata": {},
   "outputs": [],
   "source": [
    "import pandas as pd\n",
    "\n",
    "holiday_data = []\n",
    "# Group data by year, day of the week, and holiday status, and calculate the average number of crimes\n",
    "average_crimes_by_dayofweek = data.groupby(['year', 'DayOfWeek', 'is_holiday']).size().to_frame(name='count').reset_index()\n",
    "\n",
    "# Filter for each year (2020-2023) separately\n",
    "for year in range(2020, 2024):\n",
    "    year_data = average_crimes_by_dayofweek[average_crimes_by_dayofweek['year'] == year]\n",
    "    \n",
    "    # Print average number of crimes for each day of the week when it's a holiday versus not a holiday\n",
    "    print(f\"Year {year}:\")\n",
    "    for holiday_status in [True, False]:\n",
    "        holiday_label = 'Holiday' if holiday_status else 'Not a Holiday'\n",
    "        holiday_data.append(year_data[year_data['is_holiday'] == holiday_status])\n",
    "#         print(f\"\\n{holiday_label}:\")\n",
    "#         print(holiday_data[['DayOfWeek', 'count']])\n"
   ]
  },
  {
   "cell_type": "code",
   "execution_count": null,
   "id": "d008e534",
   "metadata": {},
   "outputs": [],
   "source": [
    "for x in range(0,7,2):\n",
    "    holiday_data[x].rename(columns= {'count':'count_holiday'}, inplace=True)\n",
    "    \n",
    "for x in range(1,8,2):\n",
    "    holiday_data[x].rename(columns= {'count':'count_not_holiday'}, inplace=True)\n",
    "    "
   ]
  },
  {
   "cell_type": "code",
   "execution_count": null,
   "id": "af73a6ef",
   "metadata": {},
   "outputs": [],
   "source": [
    "merged_df_2020 = pd.merge(holiday_data[0], holiday_data[1], on=['year', 'DayOfWeek'], how='outer')"
   ]
  },
  {
   "cell_type": "code",
   "execution_count": null,
   "id": "fd51232f",
   "metadata": {},
   "outputs": [],
   "source": [
    "merged_df_2020['day_count'] = [3,4,2,0,1,1,2]\n",
    "merged_df_2020['count_holiday'] = merged_df_2020['count_holiday'] / merged_df_2020['day_count']\n",
    "merged_df_2020['daycount1'] = [52,52,52,52,52,52,52]\n",
    "merged_df_2020['daycount1'] = merged_df_2020['daycount1'] - merged_df_2020['day_count']\n",
    "merged_df_2020['count_not_holiday'] = merged_df_2020['count_not_holiday'] / merged_df_2020['daycount1']\n",
    "merged_df_2020['count_holiday'].fillna(0, inplace=True)"
   ]
  },
  {
   "cell_type": "code",
   "execution_count": null,
   "id": "ca54e554",
   "metadata": {},
   "outputs": [],
   "source": [
    "\n",
    "merged_df_2020 = merged_df_2020.reindex([1,5,6,4,0,2,3])"
   ]
  },
  {
   "cell_type": "code",
   "execution_count": null,
   "id": "9d50ed1d",
   "metadata": {},
   "outputs": [],
   "source": [
    "merged_df_2021 = pd.merge(holiday_data[2], holiday_data[3], on=['year', 'DayOfWeek'], how='outer')\n",
    "merged_df_2021['day_count'] = [3,4,2,0,1,1,2]\n",
    "merged_df_2021['count_holiday'] = merged_df_2021['count_holiday'] / merged_df_2021['day_count']\n",
    "merged_df_2021['daycount1'] = [52,52,52,52,52,52,52]\n",
    "merged_df_2021['daycount1'] = merged_df_2021['daycount1'] - merged_df_2021['day_count']\n",
    "merged_df_2021['count_not_holiday'] = merged_df_2021['count_not_holiday'] / merged_df_2021['daycount1']\n",
    "merged_df_2021['count_holiday'].fillna(0, inplace=True)\n",
    "merged_df_2021 = merged_df_2021.reindex([1,5,6,4,0,2,3])"
   ]
  },
  {
   "cell_type": "code",
   "execution_count": null,
   "id": "3a0792f0",
   "metadata": {},
   "outputs": [],
   "source": [
    "merged_df_2021"
   ]
  },
  {
   "cell_type": "code",
   "execution_count": null,
   "id": "c1912667",
   "metadata": {},
   "outputs": [],
   "source": [
    "merged_df_2022 = pd.merge(holiday_data[4], holiday_data[5], on=['year', 'DayOfWeek'], how='outer')\n",
    "merged_df_2022['day_count'] = [3,4,2,0,1,1,2]\n",
    "merged_df_2022['count_holiday'] = merged_df_2022['count_holiday'] / merged_df_2022['day_count']\n",
    "merged_df_2022['daycount1'] = [52,52,52,52,52,52,52]\n",
    "merged_df_2022['daycount1'] = merged_df_2022['daycount1'] - merged_df_2022['day_count']\n",
    "merged_df_2022['count_not_holiday'] = merged_df_2022['count_not_holiday'] / merged_df_2022['daycount1']\n",
    "merged_df_2022['count_holiday'].fillna(0, inplace=True)\n",
    "merged_df_2022 = merged_df_2022.reindex([1,5,6,4,0,2,3])"
   ]
  },
  {
   "cell_type": "code",
   "execution_count": null,
   "id": "1f9d8620",
   "metadata": {},
   "outputs": [],
   "source": [
    "merged_df_2022"
   ]
  },
  {
   "cell_type": "code",
   "execution_count": null,
   "id": "8cf6d8b0",
   "metadata": {},
   "outputs": [],
   "source": [
    "merged_df_2023 = pd.merge(holiday_data[6], holiday_data[7], on=['year', 'DayOfWeek'], how='outer')\n",
    "merged_df_2023['day_count'] = [3,4,2,0,1,1,2]\n",
    "merged_df_2023['count_holiday'] = merged_df_2023['count_holiday'] / merged_df_2023['day_count']\n",
    "merged_df_2023['daycount1'] = [52,52,52,52,52,52,52]\n",
    "merged_df_2023['daycount1'] = merged_df_2023['daycount1'] - merged_df_2023['day_count']\n",
    "merged_df_2023['count_not_holiday'] = merged_df_2023['count_not_holiday'] / merged_df_2023['daycount1']\n",
    "merged_df_2023['count_holiday'].fillna(0, inplace=True)\n",
    "merged_df_2023 = merged_df_2023.reindex([1,5,6,4,0,2,3])"
   ]
  },
  {
   "cell_type": "code",
   "execution_count": null,
   "id": "e4fd1ab3",
   "metadata": {
    "scrolled": false
   },
   "outputs": [],
   "source": [
    "import matplotlib.patches as mpatches\n",
    "import matplotlib.pyplot as plt\n",
    "import seaborn as sns\n",
    "\n",
    "def plot_subplots(x, y, data, ax, year):\n",
    "\n",
    "    plt.figure(figsize=(12, 8))\n",
    "    \n",
    "#     colors =  np.where(data['count'] > threshold, 'red', 'skyblue')\n",
    "    # Create the bar plot with Seaborn\n",
    "    sns.lineplot(x=x, y=y, data=data, palette=['red','blue'], ax=ax, linewidth=2.5)\n",
    "\n",
    "    # Set colors based on count values\n",
    "#     threshold = threshold\n",
    "#     for bar in ax.patches:\n",
    "#         if bar.get_height() > threshold:\n",
    "#             bar.set_color('red')\n",
    "#         else:\n",
    "#             bar.set_color('lightblue')\n",
    "\n",
    "    # Add labels to the bars\n",
    "    for container in ax.containers:\n",
    "        ax.bar_label(container)\n",
    "\n",
    "    ax.set_title(f'Average crime during Holidays vs Normal days {year} ', fontsize=14)\n",
    "    ax.set_xlabel(' ', fontsize=15)\n",
    "    ax.set_ylabel(' ', fontsize=15)\n",
    "    ax.spines['top'].set_visible(False)\n",
    "    ax.spines['right'].set_visible(False)\n",
    "  \n",
    "    # plt.xticks(rotation=25, ha='right')\n",
    "    # plt.yticks(fontsize=12)\n",
    "    # plt.tight_layout()\n",
    "    \n",
    "\n",
    "\n",
    "\n",
    "\n",
    "fig, axes = plt.subplots(nrows=2, ncols=2, figsize=(12, 8), sharex=False,sharey=True, constrained_layout = True)\n",
    "\n",
    "plot_subplots(x='DayOfWeek', y='count_holiday',data=merged_df_2020,ax=axes[0,0], year = '2020')\n",
    "plot_subplots(x='DayOfWeek', y='count_not_holiday',data=merged_df_2020,ax=axes[0,0], year = '2020')\n",
    "plot_subplots(x='DayOfWeek', y='count_holiday',data=merged_df_2021,ax=axes[0,1], year = \"2021\")\n",
    "plot_subplots(x='DayOfWeek', y='count_not_holiday',data=merged_df_2021,ax=axes[0,1], year = \"2021\")\n",
    "plot_subplots(x='DayOfWeek', y='count_holiday',data=merged_df_2022,ax=axes[1,0], year = \"2022\")\n",
    "plot_subplots(x='DayOfWeek', y='count_not_holiday',data=merged_df_2022,ax=axes[1,0], year = \"2022\")\n",
    "plot_subplots(x='DayOfWeek', y='count_holiday',data=merged_df_2023,ax=axes[1,1], year = \"2023\")\n",
    "plot_subplots(x='DayOfWeek', y='count_not_holiday',data=merged_df_2023,ax=axes[1,1], year = \"2023\")\n",
    "# Adjust layout\n",
    "# \n",
    "plt.subplots_adjust(top=13)\n",
    "# axes[0,0].subplots_adjust(hspace=0.2, wspace=0.2)\n",
    "plt.tight_layout(pad=5)\n",
    "fig.supxlabel('Day of the week', fontsize=16)\n",
    "fig.supylabel('Crime count', fontsize=16)\n",
    "fig.suptitle('Average crime during Holidays vs Normal days (2020-2023)', fontsize=16)\n",
    "red_patch = mpatches.Patch(color='#ff9e00', label='Normal days')\n",
    "blue_patch = mpatches.Patch(color='#0a6eee', label='Holidays')\n",
    "\n",
    "# fig.legend(handles=[red_patch, blue_patch])\n",
    "fig.legend(handles=[red_patch, blue_patch], loc='upper right', bbox_to_anchor=(1, 1.05), fontsize=14)\n",
    "# Show the plots\n",
    "plt.show()\n",
    "\n",
    "\n",
    "\n",
    "\n"
   ]
  },
  {
   "cell_type": "code",
   "execution_count": null,
   "id": "d5af04ee",
   "metadata": {},
   "outputs": [],
   "source": [
    "import seaborn as sns\n",
    "import matplotlib.pyplot as plt\n",
    "\n",
    "\n",
    "\n",
    "# Plotting\n",
    "plt.figure(figsize=(8, 6))\n",
    "sns.lineplot(x='DayOfWeek', y='count_holiday', data=merged_df_2020, color='red', label='Crime on holidays')\n",
    "sns.lineplot(x='DayOfWeek', y='count_not_holiday', data=merged_df_2020, color='blue', label='Crime on normal days')\n",
    "\n",
    "# Adding labels and title\n",
    "plt.xlabel('Days of Week')\n",
    "plt.ylabel('Crime count')\n",
    "plt.title('Average crime per day on Holidays vs Normal days ')\n",
    "plt.legend()\n",
    "\n",
    "# Displaying the plot\n",
    "plt.show()\n"
   ]
  },
  {
   "cell_type": "code",
   "execution_count": null,
   "id": "e8833702",
   "metadata": {},
   "outputs": [],
   "source": [
    "holiday_data"
   ]
  },
  {
   "cell_type": "code",
   "execution_count": null,
   "id": "b6d67059",
   "metadata": {},
   "outputs": [],
   "source": [
    "import seaborn as sns\n",
    "import matplotlib.pyplot as plt\n",
    "\n",
    "# Creating a DataFrame for seaborn\n",
    "import pandas as pd\n",
    "df = pd.DataFrame({'Categories': categories, 'Blue Bars': values1, 'Red Bars': values2})\n",
    "\n",
    "# Plotting\n",
    "plt.figure(figsize=(8, 6))\n",
    "sns.barplot(x='Categories', y='Blue Bars', data=df, color='blue', label='Blue Bars')\n",
    "sns.barplot(x='Categories', y='Red Bars', data=df, color='red', bottom=values1, label='Red Bars')\n",
    "\n",
    "# Adding labels and title\n",
    "plt.xlabel('Categories')\n",
    "plt.ylabel('Values')\n",
    "plt.title('Stacked Bar Plot')\n",
    "plt.legend()\n",
    "\n",
    "# Displaying the plot\n",
    "plt.show()\n"
   ]
  },
  {
   "cell_type": "markdown",
   "id": "f1919717",
   "metadata": {},
   "source": [
    "1. write about the irregular spikes you see which were on new years. but how the next day also there were continued crimes on 2023."
   ]
  },
  {
   "cell_type": "markdown",
   "id": "e41add1b",
   "metadata": {},
   "source": [
    "#### At what times of day (TIME OCC) do different types of crimes (Crm Cd Desc) tend to occur most frequently?"
   ]
  },
  {
   "cell_type": "code",
   "execution_count": null,
   "id": "2fff02da",
   "metadata": {},
   "outputs": [],
   "source": [
    "# Categorize the hours of the day\n",
    "data['hour_of_day'] = pd.cut(data['DATETIME_OCC'].dt.hour, bins=[0, 4, 8, 12, 16, 20, 24], labels=['Late Night (12AM - 4AM)', 'Early Morning (4AM - 8AM)', 'Morning (8AM - 12PM)', 'Afternoon (12PM - 4PM)', 'Evening (4PM - 8PM)', 'Night (8PM - 12AM)'], right=False)"
   ]
  },
  {
   "cell_type": "code",
   "execution_count": null,
   "id": "e4dbd7a9",
   "metadata": {},
   "outputs": [],
   "source": [
    "# Group by time category and count the number of crimes\n",
    "crimes_by_time_category = data.groupby('hour_of_day').size().to_frame(name='crimes').sort_values(by='crimes', ascending=False).reset_index()"
   ]
  },
  {
   "cell_type": "code",
   "execution_count": null,
   "id": "3fdaff7b",
   "metadata": {},
   "outputs": [],
   "source": [
    "crimetime = crimes_by_time_category.reset_index(drop=True)"
   ]
  },
  {
   "cell_type": "code",
   "execution_count": null,
   "id": "1cb71e6b",
   "metadata": {
    "scrolled": false
   },
   "outputs": [],
   "source": [
    "\n",
    "plt.figure(figsize=(12,8))\n",
    "# Create the bar plot with Seaborn\n",
    "ax = sns.barplot(x=\"hour_of_day\", y=\"crimes\",data=crimes_by_time_category)\n",
    "\n",
    "\n",
    "for container in ax.containers:\n",
    "    ax.bar_label(container, fontsize=12)\n",
    "\n",
    "plt.xlabel('Hours of the day', fontsize=12)\n",
    "plt.ylabel('Number of Crimes', fontsize=12)\n",
    "plt.title('Number of Crimes - hours of the day', fontsize=12)\n",
    "plt.xticks(fontsize=12, ha='right', rotation=45)\n",
    "plt.yticks(fontsize=12)\n",
    "plt.tight_layout()\n",
    "plt.show()"
   ]
  },
  {
   "cell_type": "code",
   "execution_count": null,
   "id": "f31495a9",
   "metadata": {},
   "outputs": [],
   "source": [
    "import seaborn as sns\n",
    "import matplotlib.pyplot as plt\n",
    "\n",
    "# Sample data and labels\n",
    "graph_data = np.array([199698, 196650, 190652, 153347, 74226, 59583])\n",
    "labels = ['Afternoon (12PM - 4PM)', 'Evening (4PM - 8PM)', 'Night (8PM - 12AM)', 'Morning (8AM - 12PM)',\n",
    "          'Early Morning (4AM - 8AM)', 'Late Night (12AM - 4AM)']\n",
    "\n",
    "# Create a DataFrame\n",
    "new_data = {'Time of the day': labels, 'Number of crimes': graph_data}\n",
    "df = pd.DataFrame(new_data)\n",
    "\n",
    "# Set the style\n",
    "# sns.set_style(\"whitegrid\")\n",
    "\n",
    "# Plot using Seaborn countplot\n",
    "plt.figure(figsize=(12, 8))\n",
    "ax = sns.barplot(data=df, y='Time of the day', x='Number of crimes', palette='tab10')\n",
    "\n",
    "for container in ax.containers:\n",
    "    ax.bar_label(container, fontsize=14)\n",
    "\n",
    "# Add labels and title\n",
    "plt.ylabel('Time of the day', fontsize=14)\n",
    "plt.xlabel('Number of crimes', fontsize=14)\n",
    "plt.title('Crimes during different time of the day', fontsize=14)\n",
    "plt.xticks(fontsize=14)\n",
    "plt.yticks(fontsize=14)\n",
    "sns.despine()\n",
    "# Show plot\n",
    "plt.show()\n"
   ]
  },
  {
   "cell_type": "code",
   "execution_count": null,
   "id": "f2bf8c11",
   "metadata": {},
   "outputs": [],
   "source": [
    "crime_by_hour_type = data.groupby(['hour_of_day','Crm Cd Desc']).size()"
   ]
  },
  {
   "cell_type": "code",
   "execution_count": null,
   "id": "3a79246e",
   "metadata": {},
   "outputs": [],
   "source": [
    "# hours_list = ['Late Night (12AM - 4AM)', 'Early Morning (4AM - 8AM)', 'Morning (8AM - 12PM)', 'Afternoon (12PM - 4PM)', 'Evening (4PM - 8PM)', 'Night (8PM - 12AM)']\n",
    "\n",
    "crime_late_night = crime_by_hour_type['Late Night (12AM - 4AM)'].sort_values(ascending=False).head().to_frame(name='count').reset_index()\n",
    "crime_early_morning = crime_by_hour_type['Early Morning (4AM - 8AM)'].sort_values(ascending=False).head().to_frame(name='count').reset_index()\n",
    "crime_morning = crime_by_hour_type['Morning (8AM - 12PM)'].sort_values(ascending=False).head().to_frame(name='count').reset_index()\n",
    "crime_afternoon = crime_by_hour_type['Afternoon (12PM - 4PM)'].sort_values(ascending=False).head().to_frame(name='count').reset_index()\n",
    "crime_evening = crime_by_hour_type['Evening (4PM - 8PM)'].sort_values(ascending=False).head().to_frame(name='count').reset_index()\n",
    "crime_night = crime_by_hour_type['Night (8PM - 12AM)'].sort_values(ascending=False).head().to_frame(name='count').reset_index()"
   ]
  },
  {
   "cell_type": "markdown",
   "id": "fc790d1e",
   "metadata": {},
   "source": [
    "### Top 5 types of crime during different hours of the day"
   ]
  },
  {
   "cell_type": "code",
   "execution_count": null,
   "id": "9b457972",
   "metadata": {},
   "outputs": [],
   "source": [
    "def print_crime_by_hour(data_in,title_text):\n",
    "    plt.figure(figsize=(20,16))\n",
    "    # Create the bar plot with Seaborn\n",
    "    ax = sns.barplot(x=\"Crm Cd Desc\", y=\"count\",data=data_in)\n",
    "\n",
    "    for container in ax.containers:\n",
    "        ax.bar_label(container, fontsize=14)\n",
    "\n",
    "    plt.xlabel('Type of Crimes', fontsize=14)\n",
    "    plt.ylabel('Number of Crimes', fontsize=14)\n",
    "    plt.title(title_text, fontsize=15)\n",
    "    plt.xticks(fontsize=14, rotation=45, ha='right')\n",
    "    plt.yticks(fontsize=14)\n",
    "    plt.tight_layout()\n",
    "    plt.show()"
   ]
  },
  {
   "cell_type": "markdown",
   "id": "59c67198",
   "metadata": {},
   "source": [
    "Converting bar plots from different times of the day into multi bar plot. \n",
    "crim types tp consider (theft of identity, burglary, vehicle stolen, vandalisim felony (400 and over), intimate partner simple assault, battery - simple assault, theft plain - petty,  burglary from vehicle, assault with deadly weapon (aggravated)).\n",
    "\n",
    "To do that get the top 5 crime types from each hour of the day and find unique types"
   ]
  },
  {
   "cell_type": "code",
   "execution_count": null,
   "id": "e741e200",
   "metadata": {},
   "outputs": [],
   "source": [
    "# crimes_by_time_category\n",
    "# finding the unique crime types from each time category to plot multibar plot\n",
    "\n",
    "crime_df_list = [crime_late_night,crime_early_morning,crime_morning,crime_afternoon,crime_evening,crime_night]\n",
    "unique_crime_types = []\n",
    "\n",
    "for x in crime_df_list : \n",
    "    unique_crime_types.append(list(x['Crm Cd Desc']))"
   ]
  },
  {
   "cell_type": "code",
   "execution_count": null,
   "id": "45e5ed43",
   "metadata": {},
   "outputs": [],
   "source": [
    "# Flatten the list of lists\n",
    "flattened_list = [item for sublist in unique_crime_types for item in sublist]\n",
    "\n",
    "# Find unique items\n",
    "unique_items = list(set(flattened_list))\n",
    "\n",
    "print(unique_items)"
   ]
  },
  {
   "cell_type": "code",
   "execution_count": null,
   "id": "9a9f9226",
   "metadata": {},
   "outputs": [],
   "source": [
    "crimes_by_time_category = data[data['Crm Cd Desc'].isin(unique_items)]"
   ]
  },
  {
   "cell_type": "code",
   "execution_count": null,
   "id": "fc3edf44",
   "metadata": {},
   "outputs": [],
   "source": [
    "temp = crimes_by_time_category.groupby(['hour_of_day','Crm Cd Desc']).size().to_frame(name='count').reset_index()"
   ]
  },
  {
   "cell_type": "code",
   "execution_count": null,
   "id": "94a0edfa",
   "metadata": {},
   "outputs": [],
   "source": [
    "\n",
    "plt.figure(figsize=(12, 8))\n",
    "\n",
    "# Plot using Seaborn\n",
    "# ax = sns.countplot(data=crimes_by_time_category, x='hour_of_day', hue='Crm Cd Desc', palette='tab10')\n",
    "ax = sns.lineplot(x=temp['hour_of_day'], y=temp['count'], hue=temp['Crm Cd Desc'], data=temp, palette='tab10',linewidth=2.5)\n",
    "# for container in ax.containers:\n",
    "#     ax.bar_label(container, fontsize = 8)\n",
    "\n",
    "# for p in ax.patches:\n",
    "#     ax.annotate(f\"{p.get_height()}\", (p.get_x() + p.get_width() / 2, p.get_height()),\n",
    "#                 ha='left', va='bottom', xytext=(-5,5), textcoords='offset points', rotation = 45)\n",
    "\n",
    "# Set labels and title\n",
    "plt.ylabel('Time Category')\n",
    "plt.xlabel('Number of Crimes')\n",
    "plt.title('Count of Crime Types by Time Category')\n",
    "\n",
    "# Show plot\n",
    "plt.legend(title='Crime Type')\n",
    "# plt.legend(title='Crime Type', bbox_to_anchor=(1.05, 1), loc='upper left')\n",
    "plt.tight_layout()\n",
    "sns.despine()\n",
    "plt.show()"
   ]
  },
  {
   "cell_type": "code",
   "execution_count": null,
   "id": "979ae06f",
   "metadata": {},
   "outputs": [],
   "source": [
    "crimes_by_time_category.groupby(['hour_of_day','Crm Cd Desc']).size().unstack(fill_value=0)"
   ]
  },
  {
   "cell_type": "code",
   "execution_count": null,
   "id": "a9f6d4bd",
   "metadata": {},
   "outputs": [],
   "source": [
    "import pandas as pd\n",
    "import matplotlib.pyplot as plt\n",
    "\n",
    "# Assuming 'data' is your DataFrame containing crime data\n",
    "\n",
    "# Group by time of day and crime code\n",
    "grouped_data = crimes_by_time_category.groupby(['hour_of_day', 'Crm Cd Desc']).size().unstack(fill_value=0)\n",
    "bar_width = 0.91\n",
    "# Define a function to sort values within each group\n",
    "def sort_within_group(group):\n",
    "    return group.sort_values(ascending=False)  # Sort by count descending\n",
    "\n",
    "# Apply the sorting function to each group\n",
    "sorted_data = grouped_data.apply(sort_within_group)\n",
    "\n",
    "# Create the horizontal bar plot\n",
    "ax = sorted_data.plot(kind='barh', figsize=(12, 8), colormap='tab10', width=bar_width)\n",
    "plt.xlabel('Number of Crimes', fontsize=12)\n",
    "plt.ylabel('Type of Crime', fontsize=12)\n",
    "plt.title('Crimes by Time of Day and Type ', fontsize=12)\n",
    "plt.legend(title='Time of Day', loc='upper left')\n",
    "# Get handles and labels from plotted bars\n",
    "handles, labels = plt.gca().get_legend_handles_labels()\n",
    "# Reverse the order\n",
    "handles = handles[::-1]\n",
    "labels = labels[::-1]\n",
    "# Create legend with reversed order\n",
    "plt.legend(handles, labels)\n",
    "# Add labels to the bars\n",
    "for i in ax.patches:\n",
    "    ax.text(i.get_width() + 200, i.get_y()+0.01, str(round(i.get_width(), 2)), color='black', fontsize=9)\n",
    "\n",
    "plt.tight_layout()\n",
    "sns.despine()\n",
    "plt.show()\n"
   ]
  },
  {
   "cell_type": "code",
   "execution_count": null,
   "id": "7c2f575b",
   "metadata": {},
   "outputs": [],
   "source": [
    "# print_crime_by_hour(crime_late_night, \"Top 5 types of crimes during Late Night (12AM - 4AM)\")"
   ]
  },
  {
   "cell_type": "code",
   "execution_count": null,
   "id": "3e40c8d3",
   "metadata": {},
   "outputs": [],
   "source": [
    "# print_crime_by_hour(crime_early_morning, \"Top 5 types of crimes during Early Morning (4AM - 8AM)\")"
   ]
  },
  {
   "cell_type": "code",
   "execution_count": null,
   "id": "f5df4239",
   "metadata": {},
   "outputs": [],
   "source": [
    "# print_crime_by_hour(crime_morning, \"Top 5 types of crimes during Morning (8AM - 12PM)\")"
   ]
  },
  {
   "cell_type": "code",
   "execution_count": null,
   "id": "8efdc050",
   "metadata": {},
   "outputs": [],
   "source": [
    "# print_crime_by_hour(crime_afternoon, \"Top 5 types of crimes during Afternoon (12PM - 4PM)\")"
   ]
  },
  {
   "cell_type": "code",
   "execution_count": null,
   "id": "a6115cf3",
   "metadata": {},
   "outputs": [],
   "source": [
    "# print_crime_by_hour(crime_evening, \"Top 5 types of crimes during Evening (4PM - 8PM)\")"
   ]
  },
  {
   "cell_type": "code",
   "execution_count": null,
   "id": "fd46a9a0",
   "metadata": {},
   "outputs": [],
   "source": [
    "# print_crime_by_hour(crime_night, \"Top 5 types of crimes during Night (8PM - 12AM)\")"
   ]
  },
  {
   "cell_type": "markdown",
   "id": "876c12bb",
   "metadata": {},
   "source": [
    "### How has the frequency of specific types of crimes evolved over the years? (e.g., Are certain crimes becoming more or less common?)"
   ]
  },
  {
   "cell_type": "code",
   "execution_count": null,
   "id": "ebd1ae44",
   "metadata": {},
   "outputs": [],
   "source": [
    "grouped_data = data.groupby(['year','Crm Cd Desc']).size().reset_index(name='count')\n",
    "\n",
    "# Sort the crime types based on their count within each group\n",
    "grouped_data['rank'] = grouped_data.groupby('year')['count'].rank(ascending=False, method='first')\n",
    "\n",
    "# Sort the DataFrame by year and rank\n",
    "sorted_data = grouped_data.sort_values(by=['year', 'rank'])\n"
   ]
  },
  {
   "cell_type": "code",
   "execution_count": null,
   "id": "4f10d557",
   "metadata": {
    "scrolled": false
   },
   "outputs": [],
   "source": [
    "crime_counts = data.groupby('Crm Cd Desc').size()\n",
    "\n",
    "# Get the top 5 crimes based on overall count\n",
    "top_crimes = crime_counts.nlargest(5)\n",
    "\n",
    "# Filter the original data for the top 5 crimes and years 2020 to 2023\n",
    "filtered_data = data[(data['Crm Cd Desc'].isin(top_crimes.index)) & (data['year'].between(2020, 2023))]\n",
    "\n",
    "# Group the filtered data by year and crime description and count occurrences\n",
    "grouped_filtered_data = filtered_data.groupby(['year', 'Crm Cd Desc']).size().reset_index(name='count').sort_values(ascending = False, by='count')\n",
    "\n",
    "# Plotting using seaborn\n",
    "plt.figure(figsize=(12, 8))\n",
    "ax = sns.lineplot(data=grouped_filtered_data, x='year', y='count', hue='Crm Cd Desc', palette = 'tab10',linewidth=2.5)\n",
    "for container in ax.containers:\n",
    "    ax.bar_label(container)\n",
    "plt.title('Top 5 Crimes and their frequencies from 2020 to 2023', fontsize=12)\n",
    "plt.ylabel('Year', fontsize=12)\n",
    "plt.xlabel('Number of Crimes', fontsize=12)\n",
    "plt.legend(title='Crime Type', bbox_to_anchor=(1.05, 1), loc='upper left')\n",
    "plt.xticks( [2020,2021,2022,2023])\n",
    "plt.tight_layout()\n",
    "sns.despine()\n",
    "plt.show()"
   ]
  },
  {
   "cell_type": "code",
   "execution_count": null,
   "id": "2cd4cc4b",
   "metadata": {},
   "outputs": [],
   "source": [
    "grouped_filtered_data"
   ]
  },
  {
   "cell_type": "code",
   "execution_count": null,
   "id": "24d6c5f7",
   "metadata": {},
   "outputs": [],
   "source": [
    "# adding this column to specifically find out number of non-holiday and holiday days\n",
    "data['date_occ'] = data['DATETIME_OCC'].dt.date"
   ]
  },
  {
   "cell_type": "code",
   "execution_count": null,
   "id": "326c7c27",
   "metadata": {},
   "outputs": [],
   "source": [
    "# Group the data by crime description and count occurrences\n",
    "crime_counts = data['Crm Cd Desc'].value_counts()\n",
    "\n",
    "# Take the top 10 crime types\n",
    "top_10_crimes = crime_counts.nlargest(10).index.tolist()\n",
    "\n",
    "# Filter data for the top 10 crime types and group by is_holiday\n",
    "crime_holiday_counts = data[data['Crm Cd Desc'].isin(top_10_crimes)].groupby(['Crm Cd Desc', 'is_holiday']).size().reset_index(name='count')\n",
    "\n",
    "# Pivot the data for easier comparison\n",
    "pivot_crime_counts = crime_holiday_counts.pivot(index='Crm Cd Desc', columns='is_holiday', values='count').fillna(0)\n",
    "\n",
    "# Calculate the total number of non-holiday days and holiday days\n",
    "total_non_holiday_days = data[data['is_holiday'] == False]['date_occ'].nunique()\n",
    "total_holiday_days = data[data['is_holiday'] == True]['date_occ'].nunique()\n",
    "\n",
    "# Calculate the average daily crime occurrences for non-holiday and holiday periods\n",
    "pivot_crime_counts['avg_daily_non_holiday'] = pivot_crime_counts[False] / total_non_holiday_days\n",
    "pivot_crime_counts['avg_daily_holiday'] = pivot_crime_counts[True] / total_holiday_days\n",
    "\n",
    "# Calculate percentage change in average daily crime occurrences\n",
    "pivot_crime_counts['percentage_change'] = ((pivot_crime_counts['avg_daily_holiday'] - pivot_crime_counts['avg_daily_non_holiday']) / pivot_crime_counts['avg_daily_non_holiday']) * 100\n",
    "\n",
    "# Sort crimes based on percentage change\n",
    "sorted_crimes = pivot_crime_counts.sort_values(by='percentage_change', ascending=False)\n",
    "\n",
    "# Separate crimes with positive and negative percentage change\n",
    "increased_crimes = sorted_crimes[sorted_crimes['percentage_change'] > 0]\n",
    "decreased_crimes = sorted_crimes[sorted_crimes['percentage_change'] < 0]\n",
    "\n",
    "# Plotting using seaborn\n",
    "plt.figure(figsize=(12, 8))\n",
    "ax = sns.barplot(data=sorted_crimes, x=sorted_crimes.index, y='percentage_change', palette='coolwarm')\n",
    "for container in ax.containers:\n",
    "    ax.bar_label(container,  fmt='%.2f%%', label_type='edge', fontsize=14)\n",
    "plt.title('Percentage Change in Average Daily Crimes during US holidays',fontsize=14)\n",
    "plt.xlabel('Crime Type',fontsize=14)\n",
    "plt.ylabel('Percentage Change',fontsize=14)\n",
    "plt.xticks(rotation=20, ha='right',fontsize=14)\n",
    "plt.yticks(fontsize=14)\n",
    "plt.axhline(0, color='gray', linestyle='--')  # Add horizontal line at y=0 for reference\n",
    "plt.tight_layout()\n",
    "sns.despine()\n",
    "plt.show()\n",
    "\n"
   ]
  },
  {
   "cell_type": "code",
   "execution_count": null,
   "id": "f34dbd09",
   "metadata": {},
   "outputs": [],
   "source": [
    "sorted_crimes"
   ]
  },
  {
   "cell_type": "markdown",
   "id": "54c1497b",
   "metadata": {},
   "source": [
    "## Spatial Analysis"
   ]
  },
  {
   "cell_type": "markdown",
   "id": "766f45a7",
   "metadata": {},
   "source": [
    "#### Which areas (AREA NAME) have the highest and lowest crime rates?"
   ]
  },
  {
   "cell_type": "code",
   "execution_count": null,
   "id": "d9a1965d",
   "metadata": {},
   "outputs": [],
   "source": []
  },
  {
   "cell_type": "markdown",
   "id": "70008009",
   "metadata": {},
   "source": [
    "Also plot the crimes by area and for each month and see the crime growth rate in each area."
   ]
  },
  {
   "cell_type": "markdown",
   "id": "8a592fe6",
   "metadata": {},
   "source": [
    "Plot crimes by time blocks (categorize times in day into specific blocks) so we can see in which time block more crimes happen. OR in what type of crimes are more popular in what time blocks"
   ]
  },
  {
   "cell_type": "code",
   "execution_count": null,
   "id": "ceae331b",
   "metadata": {},
   "outputs": [],
   "source": [
    "\n",
    "crimes_by_area = data.groupby('AREA NAME').size().to_frame(name='count').reset_index()"
   ]
  },
  {
   "cell_type": "code",
   "execution_count": null,
   "id": "f2c049e1",
   "metadata": {},
   "outputs": [],
   "source": [
    "crimes_by_area = crimes_by_area.sort_values(by='count', ascending=False)"
   ]
  },
  {
   "cell_type": "code",
   "execution_count": null,
   "id": "2e363d0f",
   "metadata": {
    "scrolled": false
   },
   "outputs": [],
   "source": [
    "plt.figure(figsize=(12,8))\n",
    "# Create the bar plot with Seaborn\n",
    "ax = sns.barplot(x=\"AREA NAME\", y=\"count\",data=crimes_by_area)\n",
    "\n",
    "# Conditional coloring based on the value of each bar\n",
    "threshold = 50000\n",
    "for bar in ax.patches:\n",
    "    if bar.get_height() > threshold:\n",
    "        bar.set_color('red')\n",
    "    else:\n",
    "        bar.set_color('lightblue')\n",
    "\n",
    "for container in ax.containers:\n",
    "    ax.bar_label(container, fontsize=10)\n",
    "\n",
    "plt.xlabel('Area Name', fontsize=12)\n",
    "plt.ylabel('Number of Crimes', fontsize=12)\n",
    "plt.title('Number of Crimes by Area (2020-2023)', fontsize=12)\n",
    "plt.xticks(rotation=25,ha='right', fontsize=12)\n",
    "plt.tight_layout()\n",
    "sns.despine()\n",
    "plt.show()"
   ]
  },
  {
   "cell_type": "markdown",
   "id": "9db4806e",
   "metadata": {},
   "source": [
    "1. Why are the crimes highest in a specific area? "
   ]
  },
  {
   "cell_type": "markdown",
   "id": "ae6e4e97",
   "metadata": {},
   "source": [
    "### Is there a correlation between the type of crime and its location (LAT, LON)?"
   ]
  },
  {
   "cell_type": "markdown",
   "id": "fb53db22",
   "metadata": {},
   "source": [
    "### Can we identify hotspots of specific types of crimes using spatial clustering techniques?"
   ]
  },
  {
   "cell_type": "code",
   "execution_count": null,
   "id": "f4c82f6b",
   "metadata": {},
   "outputs": [],
   "source": [
    "data.groupby('Crm Cd Desc').size().sort_values(ascending=False).head(15).index.to_list()"
   ]
  },
  {
   "cell_type": "code",
   "execution_count": null,
   "id": "815588aa",
   "metadata": {},
   "outputs": [],
   "source": [
    "\"\"\"import requests\n",
    "import json\n",
    "\n",
    "area_names = list(data['AREA NAME'].unique())\n",
    "\n",
    "# Base URL of the API endpoint\n",
    "base_url = 'https://maps.lacity.org/arcgis/rest/services/Permits/BOE_Permits_Geocoder/MapServer/402/query?'\n",
    "\n",
    "# Iterate through area names\n",
    "for area in area_names:\n",
    "    # Capitalize the area name and replace spaces with '+'\n",
    "    formatted_area = area.upper().replace(' ', '+')\n",
    "    \n",
    "    # Construct the API call URL for the current area\n",
    "    api_url = f'{base_url}text={formatted_area}&geometryType=esriGeometryEnvelope&outFields=REPDIST%2CAPREC&returnGeometry=true&f=geojson'\n",
    "    \n",
    "    # Make API call to retrieve GeoJSON data for the current area\n",
    "    response = requests.get(api_url)\n",
    "    \n",
    "    # Check if the request was successful\n",
    "    if response.status_code == 200:\n",
    "        # Parse JSON response\n",
    "        geojson_data = response.json()\n",
    "        \n",
    "        # Save GeoJSON data to a file\n",
    "        with open(f'{area}.geojson', 'w') as f:\n",
    "            json.dump(geojson_data, f)\n",
    "            \n",
    "        print(f'GeoJSON data for {area} saved successfully.')\n",
    "    else:\n",
    "        print(f'Failed to retrieve GeoJSON data for {area}. Status code: {response.status_code}')\n",
    "\"\"\""
   ]
  },
  {
   "cell_type": "code",
   "execution_count": null,
   "id": "0b177c69",
   "metadata": {},
   "outputs": [],
   "source": [
    "\"\"\"# RERUNNING as the api accepts different names for west la : WEST LOS ANGELES and N HOLLYWOOD : NORTH HOLLYWOOD\n",
    "import requests\n",
    "import json\n",
    "\n",
    "area_names = ['NORTH HOLLYWOOD','WEST LOS ANGELES']\n",
    "\n",
    "# Base URL of the API endpoint\n",
    "base_url = 'https://maps.lacity.org/arcgis/rest/services/Permits/BOE_Permits_Geocoder/MapServer/402/query?'\n",
    "\n",
    "# Iterate through area names\n",
    "for area in area_names:\n",
    "    # Capitalize the area name and replace spaces with '+'\n",
    "    formatted_area = area.upper().replace(' ', '+')\n",
    "    \n",
    "    # Construct the API call URL for the current area\n",
    "    api_url = f'{base_url}text={formatted_area}&geometryType=esriGeometryEnvelope&outFields=REPDIST%2CAPREC&returnGeometry=true&f=geojson'\n",
    "    \n",
    "    # Make API call to retrieve GeoJSON data for the current area\n",
    "    response = requests.get(api_url)\n",
    "    \n",
    "    # Check if the request was successful\n",
    "    if response.status_code == 200:\n",
    "        # Parse JSON response\n",
    "        geojson_data = response.json()\n",
    "        \n",
    "        # Save GeoJSON data to a file\n",
    "        with open(f'{area}.geojson', 'w') as f:\n",
    "            json.dump(geojson_data, f)\n",
    "            \n",
    "        print(f'GeoJSON data for {area} saved successfully.')\n",
    "    else:\n",
    "        print(f'Failed to retrieve GeoJSON data for {area}. Status code: {response.status_code}')\n",
    "\"\"\""
   ]
  },
  {
   "cell_type": "markdown",
   "id": "222dfe09",
   "metadata": {},
   "source": [
    "**Zipcodes in the below heatmap should not be considered as it is, beacsue an LAPD rpt dist no can come into multiple zipcodes (use caution)**"
   ]
  },
  {
   "cell_type": "code",
   "execution_count": null,
   "id": "0bbe12c2",
   "metadata": {
    "scrolled": false
   },
   "outputs": [],
   "source": []
  },
  {
   "cell_type": "code",
   "execution_count": null,
   "id": "35768610",
   "metadata": {},
   "outputs": [],
   "source": [
    "# base_map.save('crimeheatmap.html')\n"
   ]
  },
  {
   "cell_type": "markdown",
   "id": "a218333c",
   "metadata": {},
   "source": [
    "**plotting the crime hotspot change per each quarter**"
   ]
  },
  {
   "cell_type": "code",
   "execution_count": null,
   "id": "402d1b2f",
   "metadata": {},
   "outputs": [],
   "source": [
    "# data.head(5).to_csv('final_sample_data.csv', index=False)"
   ]
  },
  {
   "cell_type": "code",
   "execution_count": null,
   "id": "54ecbc45",
   "metadata": {},
   "outputs": [],
   "source": [
    "# creating lists of areas with respective dist nos\n",
    " \n",
    "null_locations = data[data['LAT'] == 0][['AREA NAME','Rpt Dist No']]"
   ]
  },
  {
   "cell_type": "code",
   "execution_count": null,
   "id": "53063183",
   "metadata": {},
   "outputs": [],
   "source": [
    "null_locations.nunique()"
   ]
  },
  {
   "cell_type": "markdown",
   "id": "3a29ef38",
   "metadata": {},
   "source": [
    "**we have 751 records with null values for LAT, LON**"
   ]
  },
  {
   "cell_type": "code",
   "execution_count": null,
   "id": "2d1c381d",
   "metadata": {},
   "outputs": [],
   "source": [
    "# creating a list of area names \n",
    "\n",
    "area_list = list(data['AREA NAME'].unique())"
   ]
  },
  {
   "cell_type": "code",
   "execution_count": null,
   "id": "3022ed2a",
   "metadata": {},
   "outputs": [],
   "source": [
    "# creating empty lists using areanames\n",
    "def create_empty_lists(list_names):\n",
    "    # Initialize an empty dictionary to store lists\n",
    "    lists = {}\n",
    "    \n",
    "    # Create empty lists with predefined names\n",
    "    for name in list_names:\n",
    "        lists[name] = []\n",
    "    \n",
    "    return lists\n",
    "\n",
    "# Call the function and pass list names as arguments\n",
    "list_dict = create_empty_lists(area_list)"
   ]
  },
  {
   "cell_type": "code",
   "execution_count": null,
   "id": "238529e8",
   "metadata": {},
   "outputs": [],
   "source": [
    "# assign the district that belong to respective areas\n",
    "\n",
    "for key in list_dict : \n",
    "    list_dict[key] = list(null_locations[null_locations['AREA NAME'] == f\"{key}\"]['Rpt Dist No'])\n",
    "    "
   ]
  },
  {
   "cell_type": "code",
   "execution_count": null,
   "id": "33c3ce67",
   "metadata": {},
   "outputs": [],
   "source": [
    "import json\n",
    "import random\n",
    "from shapely.geometry import shape, Polygon, Point\n",
    "\n",
    "generated_locations = {}\n",
    "\n",
    "def assign_random_point(geojson_data, district_list):\n",
    "    \"\"\"\n",
    "    Assigns a random latitude and longitude within each specified GeoJSON district boundary.\n",
    "\n",
    "    Args:\n",
    "        geojson_data: A dictionary representing the GeoJSON data (loaded from a file).\n",
    "        district_list: A list containing district numbers (REPDIST) to match.\n",
    "\n",
    "    \"\"\"\n",
    "\n",
    "    # Get all district polygons from GeoJSON data (store in a dictionary for faster lookup)\n",
    "    district_polygons = {}\n",
    "    for feature in geojson_data['features']:\n",
    "        district_polygons[feature['properties']['REPDIST']] = shape(feature['geometry'])\n",
    "\n",
    "    for district in district_list:\n",
    "        # Check if the district exists in GeoJSON data\n",
    "        if district not in district_polygons:\n",
    "            print(f\"Warning: District {district} not found in GeoJSON data.\")\n",
    "            generated_locations[district] = (0,0)\n",
    "            continue\n",
    "\n",
    "        chosen_polygon = district_polygons[district]\n",
    "\n",
    "        # Ensure the polygon is a valid Polygon type\n",
    "        if not isinstance(chosen_polygon, Polygon):\n",
    "            raise ValueError(\"Invalid GeoJSON data: Not a Polygon geometry\")\n",
    "\n",
    "        # Get the bounding box of the chosen district polygon\n",
    "        min_x, min_y, max_x, max_y = chosen_polygon.bounds\n",
    "\n",
    "        # Generate random coordinates within the bounding box\n",
    "        random_lon = random.uniform(min_x, max_x)\n",
    "        random_lat = random.uniform(min_y, max_y)\n",
    "\n",
    "        # Check if the random point lies within the chosen district polygon\n",
    "        point = Point(random_lon, random_lat)\n",
    "        if not chosen_polygon.contains(point):\n",
    "            # If not, try again with a new random point (adjust max retries as needed)\n",
    "            for _ in range(100):  # Maximum 100 retries\n",
    "                random_lon = random.uniform(min_x, max_x)\n",
    "                random_lat = random.uniform(min_y, max_y)\n",
    "                point = Point(random_lon, random_lat)\n",
    "                if chosen_polygon.contains(point):\n",
    "                    break\n",
    "\n",
    "        # If point remains outside after retries, raise an exception\n",
    "        if not chosen_polygon.contains(point):\n",
    "            raise ValueError(\"Failed to generate point within district boundary after retries\")\n",
    "\n",
    "        # Add the random location (lat, lon) for this district\n",
    "        generated_locations[district] = (random_lat, random_lon)\n"
   ]
  },
  {
   "cell_type": "code",
   "execution_count": null,
   "id": "4a1c6a7b",
   "metadata": {},
   "outputs": [],
   "source": [
    "# using the above function to get randomly generated locations per respective district\n",
    "# if not found default (0,0)\n",
    "for area in area_list:\n",
    "    district_list = list_dict[area]\n",
    "    # Load GeoJSON data from a file (replace 'your_district.geojson' with your file path)\n",
    "    with open(f'{area}.geojson_new', 'r') as f:\n",
    "        geojson_data = json.load(f)\n",
    "    assign_random_point(geojson_data, district_list)\n"
   ]
  },
  {
   "cell_type": "code",
   "execution_count": null,
   "id": "d03dc169",
   "metadata": {},
   "outputs": [],
   "source": [
    "missing_data = data[(data['LON'] == 0)][['LAT', 'LON','Rpt Dist No']]"
   ]
  },
  {
   "cell_type": "code",
   "execution_count": null,
   "id": "5d8e3380",
   "metadata": {},
   "outputs": [],
   "source": [
    "# Iterate through missing data rows\n",
    "for index in missing_data.index:\n",
    "    dist_no = missing_data.loc[index, 'Rpt Dist No']\n",
    "    if dist_no in generated_locations:\n",
    "        missing_data.at[index, 'LAT'] = generated_locations[dist_no][0]\n",
    "        missing_data.at[index, 'LON'] = generated_locations[dist_no][1]\n",
    "    else:\n",
    "        # Handle missing district cases (set default values, raise warnings, etc.)\n",
    "        missing_data.at[index, 'LAT'] = 0  # Set LAT to NaN (Not a Number)\n",
    "        missing_data.at[index, 'LON'] = 0  # Set LON to NaN\n",
    "        # Or, you can assign a specific value or flag the missing data\n"
   ]
  },
  {
   "cell_type": "code",
   "execution_count": null,
   "id": "76bfdf9a",
   "metadata": {},
   "outputs": [],
   "source": [
    "# changing the LAT and LON in the main dataframe\n",
    "\n",
    "for index in missing_data.index:\n",
    "    data.at[index, 'LAT'] = missing_data.at[index, 'LAT']\n",
    "    data.at[index, 'LON'] = missing_data.at[index, 'LON']"
   ]
  },
  {
   "cell_type": "code",
   "execution_count": null,
   "id": "04a9ce59",
   "metadata": {},
   "outputs": [],
   "source": [
    "# plotting main heatmap\n",
    "heat_map_data = data[['LAT','LON']].value_counts().to_frame().reset_index()"
   ]
  },
  {
   "cell_type": "code",
   "execution_count": null,
   "id": "aeae8eb7",
   "metadata": {
    "scrolled": false
   },
   "outputs": [],
   "source": [
    "import random\n",
    "import os\n",
    "import folium\n",
    "from folium.plugins import HeatMap\n",
    "import json\n",
    "import branca.colormap as cm\n",
    "import geopandas as gpd\n",
    "\n",
    "police_stations = gpd.read_file(\"E:\\Downloads\\LAPD_Police_Stations_9102059882219472073.geojson\")\n",
    "\n",
    "df_folium = pd.DataFrame({'Lat':heat_map_data['LAT'],'Long':heat_map_data['LON'],'Count':heat_map_data['count']})\n",
    "\n",
    "# df_folium['weight'] = df_folium['Count'] / df_folium['Count'].abs().max()\n",
    "\n",
    "def generateBaseMap(loc, zoom=10, tiles='OpenStreetMap', crs='ESPG2263'):\n",
    "    return folium.Map(location=loc,\n",
    "                   control_scale=True, \n",
    "                   zoom_start=zoom,\n",
    "                   tiles=tiles)\n",
    "  \n",
    "base_map = generateBaseMap([34.052235, -118.243683] )\n",
    "\n",
    "\n",
    "linear = cm.LinearColormap([\"blue\", \"lime\", \"yellow\",\"orange\",\"red\"], vmin=0.1, vmax=1)\n",
    "linear.caption = \"Crime Density\"\n",
    "\n",
    "# Directory containing GeoJSON files\n",
    "geojson_dir = \"C:\\\\Users\\\\badam\\\\STA6704\"\n",
    "\n",
    "# Iterate through GeoJSON files in the directory\n",
    "for filename in os.listdir(geojson_dir):\n",
    "    if filename.endswith('.geojson_new'):\n",
    "        with open(os.path.join(geojson_dir, filename), 'r') as f:\n",
    "            geojson_data = json.load(f)\n",
    "\n",
    "        # Check if filename matches specific names\n",
    "        if filename.startswith('Mission') or filename.startswith('Foothill') or filename.startswith('Hollenbeck') :\n",
    "            # Add GeoJSON data with red bounding box\n",
    "            folium.GeoJson(geojson_data, name=filename.split('.')[0], style={'weight': 0.7, 'color': 'black'}, \n",
    "                           tooltip=folium.GeoJsonTooltip(fields=['APREC', 'REPDIST', 'ZIPCODE'], \n",
    "                                                         aliases=['Area Name', 'LAPD Dist No', 'Zipcode'])).add_to(base_map)\n",
    "        else:\n",
    "            # Add GeoJSON data with default style\n",
    "            folium.GeoJson(geojson_data, name=filename.split('.')[0], style={'weight': 0.7}, \n",
    "                           tooltip=folium.GeoJsonTooltip(fields=['APREC', 'REPDIST', 'ZIPCODE'], \n",
    "                                                         aliases=['Area Name', 'LAPD Dist No', 'Zipcode'])).add_to(base_map)\n",
    "\n",
    "# folium.GeoJson(police_stations, style={'weight': 0.7 },tooltip=folium.GeoJsonTooltip(fields=['DIVISION'] )).add_to(base_map)\n",
    "\n",
    "map_values1 = df_folium[['Lat','Long']]\n",
    "\n",
    "map_data = map_values1.values.tolist()\n",
    "           \n",
    "hm = HeatMap(map_data,gradient={0.1: 'blue', 0.3: 'lime', 0.5: 'yellow', 0.7: 'orange', 1: 'red'}, \n",
    "                min_opacity=0.08, \n",
    "                max_opacity=0.9, \n",
    "                radius=25,\n",
    "                use_local_extrema=True)#.add_to(base_map)\n",
    "\n",
    "# folium.GeoJson('E:\\Downloads\\central.geojson').add_to(hm)\n",
    "base_map.add_child(linear)\n",
    "base_map.add_child(hm)\n"
   ]
  },
  {
   "cell_type": "code",
   "execution_count": null,
   "id": "9c8593c4",
   "metadata": {},
   "outputs": [],
   "source": [
    "hm.save('safeplaces.html')"
   ]
  },
  {
   "cell_type": "code",
   "execution_count": null,
   "id": "34c635f0",
   "metadata": {},
   "outputs": [],
   "source": [
    "heatmap_data_2020 = data[data['year'] == 2020][['LAT','LON']].value_counts().to_frame().reset_index()\n",
    "heatmap_data_2021 = data[data['year'] == 2021][['LAT','LON']].value_counts().to_frame().reset_index()\n",
    "heatmap_data_2022 = data[data['year'] == 2022][['LAT','LON']].value_counts().to_frame().reset_index()\n",
    "heatmap_data_2023 = data[data['year'] == 2023][['LAT','LON']].value_counts().to_frame().reset_index()"
   ]
  },
  {
   "cell_type": "code",
   "execution_count": null,
   "id": "04726e7a",
   "metadata": {},
   "outputs": [],
   "source": [
    "def plot_heatmap(datain):\n",
    "    df_folium = pd.DataFrame({'Lat':datain['LAT'],'Long':datain['LON'],'Count':datain['count']})\n",
    "\n",
    "#     df_folium['weight'] = df_folium['Count'] / df_folium['Count'].abs().max()\n",
    "\n",
    "    def generateBaseMap(loc, zoom=10, tiles='OpenStreetMap', crs='ESPG2263'):\n",
    "        return folium.Map(location=loc,\n",
    "                       control_scale=True, \n",
    "                       zoom_start=zoom,\n",
    "                       tiles=tiles)\n",
    "\n",
    "    base_map = generateBaseMap([34.052235, -118.243683] )\n",
    "\n",
    "\n",
    "    linear = cm.LinearColormap([\"blue\", \"lime\", \"yellow\",\"orange\",\"red\"], vmin=0.1, vmax=1)\n",
    "    linear.caption = \"Crime Density\"\n",
    "\n",
    "    # Directory containing GeoJSON files\n",
    "    geojson_dir = \"C:\\\\Users\\\\badam\\\\STA6704\"\n",
    "\n",
    "    # Iterate through GeoJSON files in the directory\n",
    "    for filename in os.listdir(geojson_dir):\n",
    "        if filename.endswith('.geojson_new'):\n",
    "            with open(os.path.join(geojson_dir, filename), 'r') as f:\n",
    "                geojson_data = json.load(f)\n",
    "\n",
    "            # Check if filename matches specific names\n",
    "            if filename.startswith('77th Street') or filename.startswith('Pacific') or filename.startswith('Central') or filename.startswith('Mission') or filename.startswith('hollenbeck') or filename.startswith('Foothill'):\n",
    "                # Add GeoJSON data with red bounding box\n",
    "                folium.GeoJson(geojson_data, name=filename.split('.')[0], style={'weight': 0.7, 'color': 'black'}, \n",
    "                               tooltip=folium.GeoJsonTooltip(fields=['APREC', 'REPDIST', 'ZIPCODE'], \n",
    "                                                             aliases=['Area Name', 'LAPD Dist No', 'Zipcode'])).add_to(base_map)\n",
    "            else:\n",
    "                # Add GeoJSON data with default style\n",
    "                folium.GeoJson(geojson_data, name=filename.split('.')[0], style={'weight': 0.7}, \n",
    "                               tooltip=folium.GeoJsonTooltip(fields=['APREC', 'REPDIST', 'ZIPCODE'], \n",
    "                                                             aliases=['Area Name', 'LAPD Dist No', 'Zipcode'])).add_to(base_map)\n",
    "\n",
    "    # folium.GeoJson(police_stations, style={'weight': 0.7 },tooltip=folium.GeoJsonTooltip(fields=['DIVISION'] )).add_to(base_map)\n",
    "\n",
    "    map_values1 = df_folium[['Lat','Long']]\n",
    "\n",
    "    map_data = map_values1.values.tolist()\n",
    "\n",
    "    hm = HeatMap(map_data,gradient={0.1: 'blue', 0.3: 'lime', 0.5: 'yellow', 0.7: 'orange', 1: 'red'}, \n",
    "                    min_opacity=0.08, \n",
    "                    max_opacity=0.9, \n",
    "                    radius=25,\n",
    "                    use_local_extrema=True)#.add_to(base_map)\n",
    "\n",
    "    # folium.GeoJson('E:\\Downloads\\central.geojson').add_to(hm)\n",
    "    base_map.add_child(linear)\n",
    "    base_map.add_child(hm)\n",
    "    return base_map"
   ]
  },
  {
   "cell_type": "code",
   "execution_count": null,
   "id": "83328d82",
   "metadata": {},
   "outputs": [],
   "source": []
  },
  {
   "cell_type": "code",
   "execution_count": null,
   "id": "a0757bfd",
   "metadata": {
    "scrolled": false
   },
   "outputs": [],
   "source": [
    "heat_map = plot_heatmap(heatmap_data_2020)\n",
    "heat_map"
   ]
  },
  {
   "cell_type": "code",
   "execution_count": null,
   "id": "0c7dd087",
   "metadata": {},
   "outputs": [],
   "source": [
    "heat_map = plot_heatmap(heatmap_data_2021)\n",
    "heat_map"
   ]
  },
  {
   "cell_type": "code",
   "execution_count": null,
   "id": "6efea4b3",
   "metadata": {},
   "outputs": [],
   "source": [
    "heat_map = plot_heatmap(heatmap_data_2022)\n",
    "heat_map"
   ]
  },
  {
   "cell_type": "code",
   "execution_count": null,
   "id": "9e46246c",
   "metadata": {},
   "outputs": [],
   "source": [
    "heat_map = plot_heatmap(heatmap_data_2023)\n",
    "heat_map"
   ]
  },
  {
   "cell_type": "code",
   "execution_count": null,
   "id": "9976b89c",
   "metadata": {},
   "outputs": [],
   "source": []
  },
  {
   "cell_type": "code",
   "execution_count": null,
   "id": "a151fe17",
   "metadata": {},
   "outputs": [],
   "source": [
    "import matplotlib.pyplot as plt\n",
    "from PIL import Image\n",
    "\n",
    "# Load images\n",
    "image1 = Image.open('C:\\\\Users\\\\badam\\\\OneDrive - University of Central Florida\\\\STA 6704 write up graphs\\\\hm2020.png')\n",
    "image2 = Image.open('C:\\\\Users\\\\badam\\\\OneDrive - University of Central Florida\\\\STA 6704 write up graphs\\\\hm2021.png')\n",
    "image3 = Image.open('C:\\\\Users\\\\badam\\\\OneDrive - University of Central Florida\\\\STA 6704 write up graphs\\\\hm2022.png')\n",
    "image4 = Image.open('C:\\\\Users\\\\badam\\\\OneDrive - University of Central Florida\\\\STA 6704 write up graphs\\\\hm2023.png')\n",
    "\n",
    "# Create subplots\n",
    "fig, axes = plt.subplots(nrows=2, ncols=2, figsize=(16, 8))\n",
    "\n",
    "# Display images in subplots\n",
    "axes[0, 0].imshow(image1)\n",
    "axes[0, 0].set_title('Crime hotspots - 2020')\n",
    "axes[0, 0].axis('off')\n",
    "\n",
    "axes[0, 1].imshow(image2)\n",
    "axes[0, 1].set_title('Crime hotspots - 2021')\n",
    "axes[0, 1].axis('off')\n",
    "\n",
    "axes[1, 0].imshow(image3)\n",
    "axes[1, 0].set_title('Crime hotspots - 2022')\n",
    "axes[1, 0].axis('off')\n",
    "\n",
    "axes[1, 1].imshow(image4)\n",
    "axes[1, 1].set_title('Crime hotspots - 2023')\n",
    "axes[1, 1].axis('off')\n",
    "\n",
    "# Adjust layout\n",
    "plt.tight_layout()\n",
    "\n",
    "# Show the plot\n",
    "plt.show()\n"
   ]
  },
  {
   "cell_type": "code",
   "execution_count": null,
   "id": "7b021b0e",
   "metadata": {},
   "outputs": [],
   "source": [
    "import random\n",
    "import os\n",
    "import folium\n",
    "from folium.plugins import HeatMap\n",
    "import json\n",
    "import branca.colormap as cm\n",
    "import geopandas as gpd\n",
    "\n",
    "police_stations = gpd.read_file(\"E:\\Downloads\\LAPD_Police_Stations_9102059882219472073.geojson\")\n",
    "\n",
    "df_folium = pd.DataFrame({'Lat':heat_map_data['LAT'],'Long':heat_map_data['LON'],'Count':heat_map_data['count']})\n",
    "\n",
    "df_folium['weight'] = df_folium['Count'] / df_folium['Count'].abs().max()\n",
    "\n",
    "def generateBaseMap(loc, zoom=10, tiles='OpenStreetMap', crs='ESPG2263'):\n",
    "    return folium.Map(location=loc,\n",
    "                   control_scale=True, \n",
    "                   zoom_start=zoom,\n",
    "                   tiles=tiles)\n",
    "  \n",
    "base_map = generateBaseMap([34.052235, -118.243683] )\n",
    "\n",
    "\n",
    "linear = cm.LinearColormap([\"blue\", \"lime\", \"yellow\",\"orange\",\"red\"], vmin=0.1, vmax=1)\n",
    "linear.caption = \"Crime Density\"\n",
    "\n",
    "# Directory containing GeoJSON files\n",
    "geojson_dir = \"C:\\\\Users\\\\badam\\\\STA6704\"\n",
    "\n",
    "# Iterate through GeoJSON files in the directory\n",
    "for filename in os.listdir(geojson_dir):\n",
    "    if filename.endswith('.geojson_new'):\n",
    "        \n",
    "        # Read GeoJSON file\n",
    "        with open(os.path.join(geojson_dir, filename), 'r') as f:\n",
    "            geojson_data = json.load(f)\n",
    "        \n",
    "        # Add GeoJSON data as a separate layer to the map\n",
    "        folium.GeoJson(geojson_data, name=filename.split('.')[0],style={'weight': 0.7 },tooltip=folium.GeoJsonTooltip(fields=['APREC','REPDIST','ZIPCODE'], aliases=['Area Name','LAPD Dist No','Zipcode'])).add_to(base_map)\n",
    "\n",
    "# folium.GeoJson(police_stations, style={'weight': 0.7 },tooltip=folium.GeoJsonTooltip(fields=['DIVISION'] )).add_to(base_map)\n",
    "\n",
    "map_values1 = df_folium[['Lat','Long','weight']]\n",
    "\n",
    "map_data = map_values1.values.tolist()\n",
    "           \n",
    "hm = HeatMap(map_data,gradient={0.1: 'blue', 0.3: 'lime', 0.5: 'yellow', 0.7: 'orange', 1: 'red'}, \n",
    "                min_opacity=0.08, \n",
    "                max_opacity=0.9, \n",
    "                radius=25,\n",
    "                use_local_extrema=False)#.add_to(base_map)\n",
    "\n",
    "# folium.GeoJson('E:\\Downloads\\central.geojson').add_to(hm)\n",
    "base_map.add_child(linear)\n",
    "base_map.add_child(hm)\n"
   ]
  },
  {
   "cell_type": "code",
   "execution_count": null,
   "id": "a390f3f2",
   "metadata": {},
   "outputs": [],
   "source": [
    "heatmap_time = data[['LAT','LON','month','year']]"
   ]
  },
  {
   "cell_type": "code",
   "execution_count": null,
   "id": "499dc15c",
   "metadata": {},
   "outputs": [],
   "source": [
    "# Define a lambda function to get the quarter from the month column\n",
    "get_quarter = lambda row: {\n",
    "  1: 'Q1',\n",
    "  2: 'Q1',\n",
    "  3: 'Q1',\n",
    "  4: 'Q2',\n",
    "  5: 'Q2',\n",
    "  6: 'Q2',\n",
    "  7: 'Q3',\n",
    "  8: 'Q3',\n",
    "  9: 'Q3',\n",
    "  10: 'Q4',\n",
    "  11: 'Q4',\n",
    "  12: 'Q4'\n",
    "}.get(row['month'])\n",
    "\n",
    "# Apply the lambda function to the 'month' column using apply\n",
    "heatmap_time['quarter'] = heatmap_time.apply(get_quarter, axis=1)\n",
    "\n",
    "heatmap_time"
   ]
  },
  {
   "cell_type": "code",
   "execution_count": null,
   "id": "d2ff24e7",
   "metadata": {},
   "outputs": [],
   "source": [
    "heatmap_time_grp = heatmap_time.groupby(['year', 'quarter'])"
   ]
  },
  {
   "cell_type": "code",
   "execution_count": null,
   "id": "be293773",
   "metadata": {},
   "outputs": [],
   "source": [
    "result_list = []\n",
    "for year, group in heatmap_time_grp:\n",
    "    group = group[['LAT','LON']].value_counts().to_frame().reset_index()\n",
    "    group['weight'] = group['count'] / group['count'].max()\n",
    "    print(year,group)\n",
    "    result_list.append(group)"
   ]
  },
  {
   "cell_type": "code",
   "execution_count": null,
   "id": "3f839f69",
   "metadata": {},
   "outputs": [],
   "source": [
    "for result_df in result_list:\n",
    "    print(result_df)"
   ]
  },
  {
   "cell_type": "code",
   "execution_count": null,
   "id": "df5df00f",
   "metadata": {},
   "outputs": [],
   "source": [
    "# heatmap_time['date_occ'] = heatmap_time['date_occ'].apply(lambda x: x.strftime(\"%Y-%m-%d\"))"
   ]
  },
  {
   "cell_type": "code",
   "execution_count": null,
   "id": "4af4a3af",
   "metadata": {},
   "outputs": [],
   "source": [
    "for year, group in heatmap_time_grp:\n",
    "    print(group)"
   ]
  },
  {
   "cell_type": "code",
   "execution_count": null,
   "id": "451b9380",
   "metadata": {},
   "outputs": [],
   "source": [
    "\"\"\"import folium\n",
    "from folium.plugins import HeatMapWithTime\n",
    "import pandas as pd\n",
    "from itertools import chain\n",
    "\n",
    "# Assuming result_list contains DataFrames with columns 'LAT', 'LON', and 'weight'\n",
    "def generateBaseMap(loc, zoom=10, tiles='OpenStreetMap', crs='ESPG2263'):\n",
    "    return folium.Map(location=loc,\n",
    "                   control_scale=True, \n",
    "                   zoom_start=zoom,\n",
    "                   tiles=tiles)\n",
    "  \n",
    "base_map = generateBaseMap([34.052235, -118.243683] )\n",
    "\n",
    "linear = cm.LinearColormap([\"blue\", \"lime\", \"yellow\",\"orange\",\"red\"], vmin=0.1, vmax=1)\n",
    "linear.caption = \"Crime Density\"\n",
    "\n",
    "quarter_data = []\n",
    "initial_index = ['Q1 2020', 'Q2 2020', 'Q3 2020','Q4 2020',\n",
    "         'Q1 2021','Q2 2021','Q3 2021','Q4 2021',\n",
    "         'Q1 2022','Q2 2022', 'Q3 2022', 'Q4 2022',\n",
    "         'Q1 2023', 'Q2 2023', 'Q3 2023', 'Q4 2023',\n",
    "         'Q1 2024']\n",
    "final_index = []\n",
    "\n",
    "for i, result_df in enumerate(result_list):\n",
    "    # Extract latitude, longitude, and weight from the DataFrame\n",
    "    data_points = list(zip(result_df['LAT'], result_df['LON'], result_df['weight']))\n",
    "    \n",
    "    # Append the data points to the data list\n",
    "    quarter_data.append(data_points)\n",
    "    \n",
    "for x in range(len(quarter_data)) : \n",
    "    final_index.append( [initial_index[x]] * len(quarter_data[x]))\n",
    "    \n",
    "final_index = list(chain.from_iterable(final_index))    \n",
    "    \n",
    "quarter_data = list(chain.from_iterable(quarter_data))\n",
    "\n",
    "quarter_data = [list(t) for t in quarter_data]\n",
    "\n",
    "# hm = HeatMapWithTime(quarter_data, index=final_index, auto_play=True, max_opacity=0.3)\n",
    "\n",
    "hm = HeatMapWithTime(quarter_data,index=final_index, auto_play=False,\n",
    "                     gradient={0.1: 'blue', 0.3: 'lime', 0.5: 'yellow', 0.7: 'orange', 1: 'red'}, \n",
    "                     min_opacity=0.3, \n",
    "                     max_opacity=0.9, \n",
    "                     radius=100,\n",
    "                     use_local_extrema=False)\n",
    "\n",
    "base_map.add_child(linear)\n",
    "\n",
    "base_map.add_child(hm)\n",
    "\"\"\""
   ]
  },
  {
   "cell_type": "code",
   "execution_count": null,
   "id": "bc96d79b",
   "metadata": {},
   "outputs": [],
   "source": [
    "map_data"
   ]
  },
  {
   "cell_type": "code",
   "execution_count": null,
   "id": "515ef350",
   "metadata": {},
   "outputs": [],
   "source": [
    "quarter_data\n",
    "list_of_lists = [list(t) for t in quarter_data]"
   ]
  },
  {
   "cell_type": "code",
   "execution_count": null,
   "id": "7bd7253b",
   "metadata": {},
   "outputs": [],
   "source": [
    "list_of_lists"
   ]
  },
  {
   "cell_type": "code",
   "execution_count": null,
   "id": "1381a54a",
   "metadata": {},
   "outputs": [],
   "source": [
    "import geopandas as gpd\n",
    "from shapely.geometry import Point\n",
    "\n",
    "# Assuming your GeoJSON file is named \"zipcodes.geojson\"\n",
    "zipcode_geojson = \"E:\\Downloads\\LA_County_ZIP_Codes.geojson\"\n",
    "\n",
    "\n",
    "# Create a list of geometry points from LAT/LON\n",
    "geometry = [Point(xy) for xy in zip(data[\"LON\"], data[\"LAT\"])]\n",
    "\n",
    "# Create a GeoDataFrame from the data with the points\n",
    "data_geodataframe = gpd.GeoDataFrame(data, geometry=geometry, crs=\"EPSG:4326\")\n",
    "\n",
    "# Perform a spatial join to find containing zipcode for each point\n",
    "joined = gpd.sjoin(data_geodataframe, gpd.read_file(zipcode_geojson), how=\"left\", op=\"within\")\n",
    "\n",
    "# Add the zipcode column to your original dataframe\n",
    "data[\"ZIP_CODE\"] = joined[\"ZIPCODE\"]  # Assuming \"ZIP_CODE\" is the property with zipcode information\n",
    "\n",
    "# Handle cases where no zipcode is found (optional)\n",
    "data.loc[data[\"ZIP_CODE\"].isna(), \"ZIP_CODE\"] = \"NOT FOUND\"  # Assign \"NOT FOUND\" for missing zipcodes\n",
    "\n",
    "# Keep the original dataframe or use the GeoDataFrame (data_geodataframe) depending on your needs.\n"
   ]
  },
  {
   "cell_type": "code",
   "execution_count": null,
   "id": "faa48d9c",
   "metadata": {
    "scrolled": true
   },
   "outputs": [],
   "source": [
    "\"\"\"import glob\n",
    "import geopandas as gpd\n",
    "from shapely.geometry import Point\n",
    "\n",
    "# Path to directory containing GeoJSON files (replace with actual path)\n",
    "directory_path = \"C:\\\\Users\\\\badam\\\\STA6704\"\n",
    "\n",
    "# Path to GeoJSON containing zipcode boundaries\n",
    "zipcode_geojson = \"E:\\Downloads\\LA_County_ZIP_Codes.geojson\"\n",
    "\n",
    "# Function to process a single GeoJSON file\n",
    "def process_geojson(filename):\n",
    "    # Read the existing GeoJSON data\n",
    "    area_data = gpd.read_file(filename)\n",
    "\n",
    "    zipcodes = gpd.read_file(zipcode_geojson)\n",
    "\n",
    "    # Perform a spatial join to find zipcode for each district\n",
    "    joined = gpd.sjoin(area_data, zipcodes, how=\"left\", predicate=\"intersects\")\n",
    "    \n",
    "    if joined.empty:\n",
    "        print(\"No zipcodes found for any district.\")\n",
    "    else:\n",
    "        # Assuming \"ZIP_CODE\" is the property with zipcode information in your zipcode data\n",
    "        area_data[\"ZIPCODE\"] = joined['ZIPCODE'].reset_index(drop=True)\n",
    "    \n",
    "    filename = filename + '_new'\n",
    "    # Write the updated GeoJSON with zipcodes (optional)\n",
    "    area_data.to_file(f\"{filename}\", driver=\"GeoJSON\")  # Uncomment to write\n",
    "\n",
    "    \n",
    "\n",
    "# Iterate through all GeoJSON files in the directory\n",
    "for filename in glob.glob(f\"{directory_path}/*.geojson\"):\n",
    "    process_geojson(filename)\n",
    "\n",
    "print(\"Zipcodes added to GeoJSON files (if write option was uncommented).\")\n",
    "\"\"\""
   ]
  },
  {
   "cell_type": "markdown",
   "id": "07ca668f",
   "metadata": {},
   "source": [
    "Try adding cloropleth map for resported district wise or zipcode wise"
   ]
  },
  {
   "cell_type": "markdown",
   "id": "a01450c5",
   "metadata": {},
   "source": [
    "Why do we have LAT, LON for some crimes as (0,0), most probably missing. Let's try figuring it out. "
   ]
  },
  {
   "cell_type": "markdown",
   "id": "7a6c8d3f",
   "metadata": {},
   "source": [
    "we shall narrow down the location based on the area name , and rpt dist no"
   ]
  },
  {
   "cell_type": "code",
   "execution_count": null,
   "id": "770466e8",
   "metadata": {},
   "outputs": [],
   "source": [
    "data['AREA NAME'].unique()"
   ]
  },
  {
   "cell_type": "code",
   "execution_count": null,
   "id": "46074f99",
   "metadata": {},
   "outputs": [],
   "source": [
    "data[data['LAT'] == 0]"
   ]
  },
  {
   "cell_type": "markdown",
   "id": "ec14bbda",
   "metadata": {},
   "source": [
    "## **Victim Analysis**"
   ]
  },
  {
   "cell_type": "markdown",
   "id": "ccc328a8",
   "metadata": {},
   "source": [
    "### What are the demographics (Vict Age, Vict Sex, Vict Descent) of crime victims?"
   ]
  },
  {
   "cell_type": "code",
   "execution_count": null,
   "id": "34c25d61",
   "metadata": {},
   "outputs": [],
   "source": [
    "# setting records with 'H' as gender with X as unknown\n",
    "data.loc[data['Vict Sex'] == 'H', 'Vict Sex'] = 'X'"
   ]
  },
  {
   "cell_type": "code",
   "execution_count": null,
   "id": "10b90530",
   "metadata": {},
   "outputs": [],
   "source": [
    "# setting records with '-' as gender with X as unknown\n",
    "data.loc[data['Vict Sex'] == '-', 'Vict Sex'] = 'X'"
   ]
  },
  {
   "cell_type": "code",
   "execution_count": null,
   "id": "8cf29dd9",
   "metadata": {},
   "outputs": [],
   "source": [
    "# replace the H with X as unknown, should have only 3 genders. M,F,X\n",
    "crimes_by_sex = data.groupby('Vict Sex').size().to_frame(name='count').reset_index()"
   ]
  },
  {
   "cell_type": "code",
   "execution_count": null,
   "id": "72d9be17",
   "metadata": {},
   "outputs": [],
   "source": [
    "crimes_by_sex = crimes_by_sex.sort_values(ascending=False,by='count')"
   ]
  },
  {
   "cell_type": "code",
   "execution_count": null,
   "id": "6ac2a39b",
   "metadata": {},
   "outputs": [],
   "source": [
    "plt.figure(figsize=(10,6))\n",
    "# Create the bar plot with Seaborn\n",
    "ax = sns.barplot(x=\"Vict Sex\", y=\"count\",data=crimes_by_sex, width=0.4)\n",
    "\n",
    "for container in ax.containers:\n",
    "    ax.bar_label(container, fontsize=14)\n",
    "\n",
    "plt.xlabel('Victim Sex', fontsize = 14)\n",
    "plt.ylabel('Number of Crimes', fontsize = 14)\n",
    "plt.title('Number of Crimes by Sex', fontsize = 14)\n",
    "plt.xticks(fontsize=14)\n",
    "plt.yticks(fontsize=14)\n",
    "plt.tight_layout()\n",
    "plt.xticks(range(3),['Male', 'Female','unknown'])\n",
    "sns.despine()\n",
    "plt.show()"
   ]
  },
  {
   "cell_type": "code",
   "execution_count": null,
   "id": "70575f53",
   "metadata": {},
   "outputs": [],
   "source": [
    "# setting the ages less than 0 to 0. because it might be an error.\n",
    "data.loc[data['Vict Age'] < 0, 'Vict Age'] = 0"
   ]
  },
  {
   "cell_type": "code",
   "execution_count": null,
   "id": "4b5a196b",
   "metadata": {},
   "outputs": [],
   "source": [
    "crimes_by_age = data.groupby('Vict Age').size().to_frame(name='count').reset_index()"
   ]
  },
  {
   "cell_type": "code",
   "execution_count": null,
   "id": "8649eb33",
   "metadata": {},
   "outputs": [],
   "source": [
    "# creating an empty column for age group\n",
    "\n",
    "crimes_by_age['Age group'] = ''"
   ]
  },
  {
   "cell_type": "code",
   "execution_count": null,
   "id": "9fc4a712",
   "metadata": {},
   "outputs": [],
   "source": [
    "crimes_by_age['Age group'][crimes_by_age['Vict Age'] == 0] = 'Unknown (0)'"
   ]
  },
  {
   "cell_type": "code",
   "execution_count": null,
   "id": "2aba819b",
   "metadata": {},
   "outputs": [],
   "source": [
    "crimes_by_age['Age group'][(0 < crimes_by_age['Vict Age']) & (crimes_by_age['Vict Age'] < 3)] = 'Infants (1-2)'"
   ]
  },
  {
   "cell_type": "code",
   "execution_count": null,
   "id": "b7e0b8ea",
   "metadata": {},
   "outputs": [],
   "source": [
    "crimes_by_age['Age group'][(2 < crimes_by_age['Vict Age']) & (crimes_by_age['Vict Age'] < 6)] = 'Early Children (3-5)'"
   ]
  },
  {
   "cell_type": "code",
   "execution_count": null,
   "id": "64149186",
   "metadata": {},
   "outputs": [],
   "source": [
    "crimes_by_age['Age group'][(5 < crimes_by_age['Vict Age']) & (crimes_by_age['Vict Age'] < 13)] = 'School Children (6-12)' "
   ]
  },
  {
   "cell_type": "code",
   "execution_count": null,
   "id": "439a37bd",
   "metadata": {},
   "outputs": [],
   "source": [
    "crimes_by_age['Age group'][(12 < crimes_by_age['Vict Age']) & (crimes_by_age['Vict Age'] < 20)] = 'Teenager (13-19)' "
   ]
  },
  {
   "cell_type": "code",
   "execution_count": null,
   "id": "b7b98d41",
   "metadata": {},
   "outputs": [],
   "source": [
    "crimes_by_age['Age group'][(19 < crimes_by_age['Vict Age']) & (crimes_by_age['Vict Age'] < 35)] = 'Young Adult (20-34)' "
   ]
  },
  {
   "cell_type": "code",
   "execution_count": null,
   "id": "81f3889a",
   "metadata": {},
   "outputs": [],
   "source": [
    "crimes_by_age['Age group'][(34 < crimes_by_age['Vict Age']) & (crimes_by_age['Vict Age'] < 65)] = 'Middle Adult (35-64)' "
   ]
  },
  {
   "cell_type": "code",
   "execution_count": null,
   "id": "4b1cdaf5",
   "metadata": {},
   "outputs": [],
   "source": [
    "crimes_by_age['Age group'][(64 < crimes_by_age['Vict Age'])] = 'Seniors (65+)' "
   ]
  },
  {
   "cell_type": "code",
   "execution_count": null,
   "id": "0539ca43",
   "metadata": {},
   "outputs": [],
   "source": [
    "crimes_by_agegroup = crimes_by_age.groupby('Age group')['count'].sum().to_frame(name='crimes').reset_index()\n",
    "                                                          "
   ]
  },
  {
   "cell_type": "code",
   "execution_count": null,
   "id": "483ff174",
   "metadata": {},
   "outputs": [],
   "source": [
    "crimes_by_agegroup = crimes_by_agegroup.sort_values(by='crimes', ascending=False)"
   ]
  },
  {
   "cell_type": "code",
   "execution_count": null,
   "id": "50b1e6ae",
   "metadata": {
    "scrolled": false
   },
   "outputs": [],
   "source": [
    "plt.figure(figsize=(12,8))\n",
    "# Create the bar plot with Seaborn\n",
    "ax = sns.barplot(x=\"Age group\", y=\"crimes\",data=crimes_by_agegroup)\n",
    "\n",
    "for container in ax.containers:\n",
    "    ax.bar_label(container, fontsize=14)\n",
    "\n",
    "plt.xlabel('Age group', fontsize=14)\n",
    "plt.ylabel('Number of Crimes', fontsize=14)\n",
    "plt.title('Number of Crimes by Age group (2020-2023)', fontsize=14)\n",
    "plt.xticks(rotation=25, ha='right', fontsize=14)\n",
    "plt.yticks(fontsize=14)\n",
    "sns.despine()\n",
    "plt.tight_layout()\n",
    "plt.show()"
   ]
  },
  {
   "cell_type": "markdown",
   "id": "1b541abd",
   "metadata": {},
   "source": [
    "### Do certain age groups or demographics experience specific types of crimes more frequently?"
   ]
  },
  {
   "cell_type": "code",
   "execution_count": null,
   "id": "907abd2a",
   "metadata": {},
   "outputs": [],
   "source": [
    "data['Age group'] = ''"
   ]
  },
  {
   "cell_type": "code",
   "execution_count": null,
   "id": "887c6310",
   "metadata": {},
   "outputs": [],
   "source": [
    "# setting age group based in the age\n",
    "\n",
    "data['Age group'][data['Vict Age'] == 0] = 'Unknown (0)'\n",
    "data['Age group'][(0 < data['Vict Age']) & (data['Vict Age'] < 3)] = 'Infants (1-2)'\n",
    "data['Age group'][(2 < data['Vict Age']) & (data['Vict Age'] < 6)] = 'Early Children (3-5)'\n",
    "data['Age group'][(5 < data['Vict Age']) & (data['Vict Age'] < 13)] = 'School Children (6-12)' \n",
    "data['Age group'][(12 < data['Vict Age']) & (data['Vict Age'] < 20)] = 'Teenager (13-19)' \n",
    "data['Age group'][(19 < data['Vict Age']) & (data['Vict Age'] < 35)] = 'Young Adult (20-34)' \n",
    "data['Age group'][(34 < data['Vict Age']) & (data['Vict Age'] < 65)] = 'Middle Adult (35-64)' \n",
    "data['Age group'][(64 < data['Vict Age'])] = 'Seniors (65+)' \n"
   ]
  },
  {
   "cell_type": "code",
   "execution_count": null,
   "id": "29fea0c9",
   "metadata": {},
   "outputs": [],
   "source": [
    "crimes_types_by_age_group = data.groupby(['Age group','Crm Cd Desc']).size() "
   ]
  },
  {
   "cell_type": "code",
   "execution_count": null,
   "id": "2b455cf0",
   "metadata": {},
   "outputs": [],
   "source": [
    "crimes_on_age_unknown = crimes_types_by_age_group['Unknown (0)'].sort_values(ascending=False).head(3).to_frame(name='count').reset_index()\n",
    "crimes_on_infants = crimes_types_by_age_group['Infants (1-2)'].sort_values(ascending=False).head(3).to_frame(name='count').reset_index()\n",
    "crimes_on_early_children = crimes_types_by_age_group['Early Children (3-5)'].sort_values(ascending=False).head(3).to_frame(name='count').reset_index()\n",
    "crimes_on_school_children = crimes_types_by_age_group['School Children (6-12)'].sort_values(ascending=False).head(3).to_frame(name='count').reset_index()\n",
    "crimes_on_teenager = crimes_types_by_age_group['Teenager (13-19)'].sort_values(ascending=False).head(3).to_frame(name='count').reset_index()\n",
    "crimes_on_young_adult = crimes_types_by_age_group['Young Adult (20-34)'].sort_values(ascending=False).head(3).to_frame(name='count').reset_index()\n",
    "crimes_on_middle_adult = crimes_types_by_age_group['Middle Adult (35-64)'].sort_values(ascending=False).head(3).to_frame(name='count').reset_index()\n",
    "crimes_on_seniors = crimes_types_by_age_group['Seniors (65+)'].sort_values(ascending=False).head(3).to_frame(name='count').reset_index()"
   ]
  },
  {
   "cell_type": "code",
   "execution_count": null,
   "id": "63b2baf3",
   "metadata": {},
   "outputs": [],
   "source": [
    "def print_crimes(data_in,title_text):\n",
    "    plt.figure(figsize=(12,8)) \n",
    "    # Create the bar plot with Seaborn\n",
    "    ax = sns.barplot(x=\"Crm Cd Desc\", y=\"count\",data=data_in)\n",
    "\n",
    "    for container in ax.containers:\n",
    "        ax.bar_label(container, fontsize=18)\n",
    "\n",
    "    plt.xlabel('Type of Crimes', fontsize=18)\n",
    "    plt.ylabel('Number of Crimes', fontsize=18)\n",
    "    plt.title(title_text, fontsize=18)\n",
    "    plt.xticks(fontsize=18, rotation=15, ha='right')\n",
    "    plt.yticks(fontsize=18)\n",
    "    sns.despine()\n",
    "    plt.tight_layout()\n",
    "    plt.show()"
   ]
  },
  {
   "cell_type": "code",
   "execution_count": null,
   "id": "d4c07616",
   "metadata": {},
   "outputs": [],
   "source": [
    "crimes_on_age_unknown"
   ]
  },
  {
   "cell_type": "code",
   "execution_count": null,
   "id": "b750e1c2",
   "metadata": {},
   "outputs": [],
   "source": [
    "data_list[index]"
   ]
  },
  {
   "cell_type": "code",
   "execution_count": null,
   "id": "30ad680d",
   "metadata": {},
   "outputs": [],
   "source": [
    "print_crimes(crimes_on_age_unknown, \"Top 3 type of crimes on people of unknown age\")"
   ]
  },
  {
   "cell_type": "code",
   "execution_count": null,
   "id": "df1ddeb8",
   "metadata": {},
   "outputs": [],
   "source": [
    "print_crimes(crimes_on_infants, \"Top 3 type of crimes on Infants (1-2)\")"
   ]
  },
  {
   "cell_type": "code",
   "execution_count": null,
   "id": "49698e22",
   "metadata": {},
   "outputs": [],
   "source": [
    "print_crimes(crimes_on_early_children, \"Top 3 type of crimes on Early Children (3-5)\")"
   ]
  },
  {
   "cell_type": "code",
   "execution_count": null,
   "id": "4a0b4179",
   "metadata": {},
   "outputs": [],
   "source": [
    "print_crimes(crimes_on_school_children, \"Top 3 type of crimes on School Children (6-12)\")"
   ]
  },
  {
   "cell_type": "code",
   "execution_count": null,
   "id": "23a971bb",
   "metadata": {},
   "outputs": [],
   "source": [
    "print_crimes(crimes_on_teenager, \"Top 3 type of crimes on Teenager (13-19)\")"
   ]
  },
  {
   "cell_type": "code",
   "execution_count": null,
   "id": "7802c3ff",
   "metadata": {},
   "outputs": [],
   "source": [
    "print_crimes(crimes_on_young_adult, \"Top 3 type of crimes on Young Adult (20-34)\")"
   ]
  },
  {
   "cell_type": "code",
   "execution_count": null,
   "id": "afe2c728",
   "metadata": {},
   "outputs": [],
   "source": [
    "print_crimes(crimes_on_middle_adult, \"Top 3 type of crimes on Middle Adult (35-64)\")"
   ]
  },
  {
   "cell_type": "code",
   "execution_count": null,
   "id": "e79533b5",
   "metadata": {},
   "outputs": [],
   "source": [
    "print_crimes(crimes_on_seniors, \"Top 3 type of crimes on Seniors (65+)\")"
   ]
  },
  {
   "cell_type": "markdown",
   "id": "271124be",
   "metadata": {},
   "source": [
    "### Do certain age groups or demographics experience specific types of crimes more frequently?"
   ]
  },
  {
   "cell_type": "code",
   "execution_count": null,
   "id": "fc864fc9",
   "metadata": {},
   "outputs": [],
   "source": [
    "#top 3 crimes based on the descent, white , black , latinx\n",
    "\n",
    "crimes_types_by_descent = data.groupby(['Vict Descent','Crm Cd Desc']).size() "
   ]
  },
  {
   "cell_type": "code",
   "execution_count": null,
   "id": "edde10f7",
   "metadata": {},
   "outputs": [],
   "source": [
    "crimes_on_white = crimes_types_by_descent['W'].sort_values(ascending=False).head(3).to_frame(name='count').reset_index()\n",
    "crimes_on_black = crimes_types_by_descent['B'].sort_values(ascending=False).head(3).to_frame(name='count').reset_index()\n",
    "crimes_on_hispanic = crimes_types_by_descent['H'].sort_values(ascending=False).head(3).to_frame(name='count').reset_index()"
   ]
  },
  {
   "cell_type": "code",
   "execution_count": null,
   "id": "2fafaf3d",
   "metadata": {},
   "outputs": [],
   "source": []
  },
  {
   "cell_type": "code",
   "execution_count": null,
   "id": "1e52f908",
   "metadata": {},
   "outputs": [],
   "source": [
    "print_crimes(crimes_on_white, \"Top 3 Crime types on White descent\")"
   ]
  },
  {
   "cell_type": "code",
   "execution_count": null,
   "id": "eb48307c",
   "metadata": {},
   "outputs": [],
   "source": [
    "print_crimes(crimes_on_black, \"Top 3 Crime types on Black descent\")"
   ]
  },
  {
   "cell_type": "code",
   "execution_count": null,
   "id": "04b1ebb9",
   "metadata": {},
   "outputs": [],
   "source": [
    "print_crimes(crimes_on_hispanic, \"Top 3 Crime types on Hispanic/Latin/Mexican descent\")"
   ]
  },
  {
   "cell_type": "markdown",
   "id": "0f487ea9",
   "metadata": {},
   "source": [
    "-------------------------------------------------------------------------------------------------------"
   ]
  },
  {
   "cell_type": "code",
   "execution_count": null,
   "id": "854fc46b",
   "metadata": {},
   "outputs": [],
   "source": [
    "# changing the - to X representing unknown\n",
    "data.loc[data['Vict Descent'] == '-', 'Vict Descent'] = 'X'"
   ]
  },
  {
   "cell_type": "code",
   "execution_count": null,
   "id": "5bd3a18c",
   "metadata": {},
   "outputs": [],
   "source": [
    "crimes_by_descent = data.groupby('Vict Descent').size().to_frame(name='crimes').reset_index()"
   ]
  },
  {
   "cell_type": "code",
   "execution_count": null,
   "id": "29fb9b95",
   "metadata": {},
   "outputs": [],
   "source": [
    "crimes_by_descent['Vict_desc_ext'] = ['Other Asian', 'Black', 'Chinese', 'Cambodian', 'Filipino', 'Guamanian', 'Hispanic/Latin/Mexican', 'American Indian/Alaskan Native', 'Japanese', 'Korean', 'Laotian', 'Other', 'Pacific Islander', 'Samoan', 'Hawaiian', 'Vietnamese', 'White', 'Unknown', 'Asian Indian']"
   ]
  },
  {
   "cell_type": "code",
   "execution_count": null,
   "id": "b7270890",
   "metadata": {},
   "outputs": [],
   "source": [
    "crimes_by_descent = crimes_by_descent.sort_values(by='crimes', ascending=False)\n"
   ]
  },
  {
   "cell_type": "code",
   "execution_count": null,
   "id": "b5489a73",
   "metadata": {},
   "outputs": [],
   "source": [
    "import numpy as np\n",
    "plt.figure(figsize=(12,8))\n",
    "# Create the bar plot with Seaborn\n",
    "ax = sns.barplot(x=\"Vict_desc_ext\", y=\"crimes\",data=crimes_by_descent, palette='tab10')\n",
    "\n",
    "for container in ax.containers:\n",
    "    ax.bar_label(container)\n",
    "\n",
    "plt.xlabel('Victim Descent',fontsize=12)\n",
    "plt.ylabel('Number of Crimes',fontsize=12)\n",
    "plt.title('Number of Crimes - Victim Descent',fontsize=12)\n",
    "plt.xticks(rotation = 25, ha='right')\n",
    "plt.yticks(fontsize=12)\n",
    "plt.tight_layout()\n",
    "sns.despine()\n",
    "plt.show()"
   ]
  },
  {
   "cell_type": "markdown",
   "id": "305c1d56",
   "metadata": {},
   "source": [
    "### Is there any correlation between victim demographics and the location or time of occurrence of crimes?"
   ]
  },
  {
   "cell_type": "markdown",
   "id": "3008a3c3",
   "metadata": {},
   "source": [
    "Also combine the other dataset about the cities/ sheriff police stations, their location and analyze if present police stations are overloaded with cases due to less number? Do we need any new police stations ? if so where ? "
   ]
  },
  {
   "cell_type": "code",
   "execution_count": null,
   "id": "8d73ceec",
   "metadata": {},
   "outputs": [],
   "source": [
    "crimes_by_descent_hod = data.groupby(['Vict Descent','hour_of_day']).size()"
   ]
  },
  {
   "cell_type": "code",
   "execution_count": null,
   "id": "a122959f",
   "metadata": {},
   "outputs": [],
   "source": [
    "crimes_by_descent_hod_W = crimes_by_descent_hod['W'].to_frame(name='count').reset_index()"
   ]
  },
  {
   "cell_type": "code",
   "execution_count": null,
   "id": "343ca47b",
   "metadata": {},
   "outputs": [],
   "source": [
    "crimes_by_descent_hod_B = crimes_by_descent_hod['B'].to_frame(name='count').reset_index()"
   ]
  },
  {
   "cell_type": "code",
   "execution_count": null,
   "id": "42aed004",
   "metadata": {},
   "outputs": [],
   "source": [
    "crimes_by_descent_hod_H = crimes_by_descent_hod['H'].to_frame(name='count').reset_index()"
   ]
  },
  {
   "cell_type": "code",
   "execution_count": null,
   "id": "deb0469a",
   "metadata": {},
   "outputs": [],
   "source": [
    "crimes_by_descent_hod_unknown = crimes_by_descent_hod['X'].to_frame(name='count').reset_index()"
   ]
  },
  {
   "cell_type": "code",
   "execution_count": null,
   "id": "6b4a8f1a",
   "metadata": {},
   "outputs": [],
   "source": [
    "def print_crimes_hod(data_in,title_text):\n",
    "    plt.figure(figsize=(12,8))\n",
    "    # Create the bar plot with Seaborn\n",
    "    ax = sns.barplot(x=\"hour_of_day\", y=\"count\",data=data_in)\n",
    "\n",
    "    for container in ax.containers:\n",
    "        ax.bar_label(container, fontsize=14)\n",
    "\n",
    "    plt.xlabel('Different hours of the day', fontsize=14)\n",
    "    plt.ylabel('Number of Crimes', fontsize=14)\n",
    "    plt.title(title_text, fontsize=15)\n",
    "    plt.xticks(fontsize=14, rotation=45, ha='right')\n",
    "    plt.yticks(fontsize=14)\n",
    "    plt.tight_layout()\n",
    "    plt.show()"
   ]
  },
  {
   "cell_type": "code",
   "execution_count": null,
   "id": "df243d4d",
   "metadata": {},
   "outputs": [],
   "source": [
    "print_crimes_hod(crimes_by_descent_hod_W, \"Crimes on White descent during different hours of the day\")"
   ]
  },
  {
   "cell_type": "code",
   "execution_count": null,
   "id": "c96aa2a0",
   "metadata": {},
   "outputs": [],
   "source": [
    "print_crimes_hod(crimes_by_descent_hod_B, \"Crimes on Black descent during different hours of the day\")"
   ]
  },
  {
   "cell_type": "code",
   "execution_count": null,
   "id": "94d51dbf",
   "metadata": {},
   "outputs": [],
   "source": [
    "print_crimes_hod(crimes_by_descent_hod_H, \"Crimes on Hispanic/Latin/Mexican descent during different hours of the day\")"
   ]
  },
  {
   "cell_type": "code",
   "execution_count": null,
   "id": "10083c70",
   "metadata": {},
   "outputs": [],
   "source": [
    "print_crimes_hod(crimes_by_descent_hod_unknown, \"Crimes on Unknown descent during different hours of the day\")"
   ]
  },
  {
   "cell_type": "code",
   "execution_count": null,
   "id": "d8d8a850",
   "metadata": {},
   "outputs": [],
   "source": [
    "temp = data.groupby(['AREA NAME','Vict Descent']).size().sort_values(ascending=False).unstack(fill_value=0)"
   ]
  },
  {
   "cell_type": "code",
   "execution_count": null,
   "id": "b4ef446b",
   "metadata": {},
   "outputs": [],
   "source": [
    "temp"
   ]
  },
  {
   "cell_type": "code",
   "execution_count": null,
   "id": "c44c05d9",
   "metadata": {},
   "outputs": [],
   "source": [
    "crimes_black = temp['B'].sort_values(ascending=False).to_frame(name='count').reset_index()"
   ]
  },
  {
   "cell_type": "code",
   "execution_count": null,
   "id": "300242d7",
   "metadata": {},
   "outputs": [],
   "source": [
    "crimes_white = temp['W'].sort_values(ascending=False).to_frame(name='count').reset_index()"
   ]
  },
  {
   "cell_type": "code",
   "execution_count": null,
   "id": "ad9a6f3e",
   "metadata": {},
   "outputs": [],
   "source": [
    "crimes_hispanic = temp['H'].sort_values(ascending=False).to_frame(name='count').reset_index()"
   ]
  },
  {
   "cell_type": "code",
   "execution_count": null,
   "id": "99681915",
   "metadata": {},
   "outputs": [],
   "source": [
    "crimes_unknown = temp['X'].sort_values(ascending=False).to_frame(name='count').reset_index()"
   ]
  },
  {
   "cell_type": "code",
   "execution_count": null,
   "id": "4115f71e",
   "metadata": {},
   "outputs": [],
   "source": [
    "\n",
    "\n",
    "plt.figure(figsize=(12, 8))\n",
    "# Create the bar plot with Seaborn\n",
    "colors =  np.where(crimes_black['count'] > threshold, 'red', 'skyblue')\n",
    "ax = sns.barplot(y=\"AREA NAME\", x=\"count\", data=crimes_black, palette=colors,orient='h')\n",
    "\n",
    "\n",
    "\n",
    "# Add labels to the bars\n",
    "for container in ax.containers:\n",
    "    ax.bar_label(container)\n",
    "\n",
    "plt.title('Crimes on Victims from Black Descent across different areas of LA (2020-2023)', fontsize=12)\n",
    "plt.ylabel('Number of Crimes', fontsize=12)\n",
    "plt.xlabel('Area Name', fontsize=12)\n",
    "plt.xticks(rotation=25, ha='right')\n",
    "plt.yticks(fontsize=12)\n",
    "plt.tight_layout()\n",
    "sns.despine()\n",
    "plt.show()\n"
   ]
  },
  {
   "cell_type": "code",
   "execution_count": null,
   "id": "2c47c32a",
   "metadata": {},
   "outputs": [],
   "source": [
    "\n",
    "\n",
    "plt.figure(figsize=(12, 8))\n",
    "colors =  np.where(crimes_hispanic['count'] > threshold, 'red', 'skyblue')\n",
    "ax = sns.barplot(y=\"AREA NAME\", x=\"count\", data=crimes_hispanic, palette=colors,orient='h')\n",
    "\n",
    "# Add labels to the bars\n",
    "for container in ax.containers:\n",
    "    ax.bar_label(container)\n",
    "\n",
    "plt.title('Crimes on Victims from Hispanic/Latin/Mexican Descent across different areas of LA (2020-2023)', fontsize=12)\n",
    "plt.ylabel('Number of Crimes', fontsize=12)\n",
    "plt.xlabel('Area Name', fontsize=12)\n",
    "plt.xticks(rotation=25, ha='right')\n",
    "plt.yticks(fontsize=12)\n",
    "plt.tight_layout()\n",
    "sns.despine()\n",
    "plt.show()\n"
   ]
  },
  {
   "cell_type": "code",
   "execution_count": null,
   "id": "3afedf58",
   "metadata": {},
   "outputs": [],
   "source": [
    "\n",
    "\n",
    "plt.figure(figsize=(12, 8))\n",
    "colors =  np.where(crimes_white['count'] > threshold, 'red', 'skyblue')\n",
    "ax = sns.barplot(y=\"AREA NAME\", x=\"count\", data=crimes_white, palette=colors,orient='h')\n",
    "\n",
    "# Set colors based on count values\n",
    "threshold = 6000\n",
    "for bar in ax.patches:\n",
    "    if bar.get_height() > threshold:\n",
    "        bar.set_color('red')\n",
    "    else:\n",
    "        bar.set_color('lightblue')\n",
    "\n",
    "# Add labels to the bars\n",
    "for container in ax.containers:\n",
    "    ax.bar_label(container)\n",
    "\n",
    "plt.title('Crimes on Victims from White Descent across different areas of LA (2020-2023)', fontsize=12)\n",
    "plt.ylabel('Number of Crimes', fontsize=12)\n",
    "plt.xlabel('Area Name', fontsize=12)\n",
    "plt.xticks(rotation=25, ha='right')\n",
    "plt.yticks(fontsize=12)\n",
    "plt.tight_layout()\n",
    "sns.despine()\n",
    "plt.show()\n"
   ]
  },
  {
   "cell_type": "code",
   "execution_count": null,
   "id": "f23376bc",
   "metadata": {
    "scrolled": false
   },
   "outputs": [],
   "source": [
    "\n",
    "\n",
    "plt.figure(figsize=(12, 8))\n",
    "# Create the bar plot with Seaborn\n",
    "ax = sns.barplot(x=\"AREA NAME\", y=\"count\", data=crimes_unknown, color='lightblue')\n",
    "\n",
    "# Set colors based on count values\n",
    "threshold = 11000\n",
    "for bar in ax.patches:\n",
    "    if bar.get_height() > threshold:\n",
    "        bar.set_color('red')\n",
    "    else:\n",
    "        bar.set_color('lightblue')\n",
    "\n",
    "# Add labels to the bars\n",
    "for container in ax.containers:\n",
    "    ax.bar_label(container)\n",
    "\n",
    "plt.title('Crimes on Victims from Unknown Descent across different areas of LA (2020-2023)', fontsize=12)\n",
    "plt.ylabel('Number of Crimes', fontsize=12)\n",
    "plt.xlabel('Area Name', fontsize=12)\n",
    "plt.xticks(rotation=25, ha='right')\n",
    "plt.yticks(fontsize=12)\n",
    "plt.tight_layout()\n",
    "sns.despine()\n",
    "plt.show()\n"
   ]
  },
  {
   "cell_type": "code",
   "execution_count": null,
   "id": "d60c9ed4",
   "metadata": {},
   "outputs": [],
   "source": [
    "\n",
    "# Create subplots\n",
    "fig, axes = plt.subplots(nrows=2, ncols=2, figsize=(12, 8), sharex=False)\n",
    "\n",
    "# Plot the first bar plot\n",
    "sns.barplot(ax=axes[0, 0],y=\"AREA NAME\", x=\"count\", data=crimes_unknown, color='lightblue', orient='h')\n",
    "for container in axes[0, 0].containers:\n",
    "    axes[0, 0].bar_label(container)\n",
    "axes[0, 0].set_title('Crimes on Victims from Unknown Descent across different areas of LA (2020-2023)', fontsize=12)\n",
    "# axes[0, 0].set_xlabel('Area Name', fontsize=12)\n",
    "# axes[0, 0].set_ylabel('Number of Crimes', fontsize=12)\n",
    "sns.despine(ax=axes[0,0])\n",
    "\n",
    "\n",
    "\n",
    "# Plot the second bar plot\n",
    "sns.barplot(ax=axes[0, 1], x=x, y=y2, color='lightgreen')\n",
    "axes[0, 1].set_title('Plot 2')\n",
    "\n",
    "# Plot the third bar plot\n",
    "sns.barplot(ax=axes[1, 0], x=x, y=y3, color='salmon')\n",
    "axes[1, 0].set_title('Plot 3')\n",
    "\n",
    "# Plot the fourth bar plot\n",
    "sns.barplot(ax=axes[1, 1], x=x, y=y4, color='lightcoral')\n",
    "axes[1, 1].set_title('Plot 4')\n",
    "\n",
    "# Adjust layout\n",
    "plt.tight_layout()\n",
    "\n",
    "# Show the plots\n",
    "plt.show()"
   ]
  },
  {
   "cell_type": "code",
   "execution_count": null,
   "id": "22462822",
   "metadata": {},
   "outputs": [],
   "source": [
    "\n",
    "import matplotlib.pyplot as plt\n",
    "import seaborn as sns\n",
    "\n",
    "def plot_subplots(x, y, data, ax, threshold, descent):\n",
    "\n",
    "    plt.figure(figsize=(12, 8))\n",
    "    \n",
    "    colors =  np.where(data['count'] > threshold, 'red', 'skyblue')\n",
    "    # Create the bar plot with Seaborn\n",
    "    sns.barplot(x=x, y=y, data=data, palette=colors, ax=ax)\n",
    "\n",
    "    # Set colors based on count values\n",
    "#     threshold = threshold\n",
    "#     for bar in ax.patches:\n",
    "#         if bar.get_height() > threshold:\n",
    "#             bar.set_color('red')\n",
    "#         else:\n",
    "#             bar.set_color('lightblue')\n",
    "\n",
    "    # Add labels to the bars\n",
    "    for container in ax.containers:\n",
    "        ax.bar_label(container)\n",
    "\n",
    "    ax.set_title(f'Crimes on Victims from {descent} Descent across different areas of LA', fontsize=12)\n",
    "    ax.set_xlabel(' ', fontsize=12)\n",
    "    ax.set_ylabel(' ', fontsize=12)\n",
    "    ax.spines['top'].set_visible(False)\n",
    "    ax.spines['right'].set_visible(False)\n",
    "  \n",
    "    # plt.xticks(rotation=25, ha='right')\n",
    "    # plt.yticks(fontsize=12)\n",
    "    # plt.tight_layout()\n",
    "    \n",
    "\n",
    "\n",
    "\n",
    "\n",
    "fig, axes = plt.subplots(nrows=2, ncols=2, figsize=(12, 8), sharex=False, constrained_layout = True)\n",
    "plot_subplots(x='count', y='AREA NAME',data=crimes_black,ax=axes[0,0], descent = 'Black', threshold=7000)\n",
    "plot_subplots(x='count', y='AREA NAME',data=crimes_hispanic,ax=axes[0,1], descent = \"Hispanic\", threshold=15000)\n",
    "plot_subplots(x='count', y='AREA NAME',data=crimes_white,ax=axes[1,0], descent = \"White\", threshold=6000)\n",
    "plot_subplots(x='count', y='AREA NAME',data=crimes_unknown,ax=axes[1,1], descent = \"Unknown\", threshold=11000)\n",
    "# Adjust layout\n",
    "# \n",
    "plt.subplots_adjust(top=13)\n",
    "# axes[0,0].subplots_adjust(hspace=0.2, wspace=0.2)\n",
    "plt.tight_layout(pad=5)\n",
    "fig.supxlabel('Number of Crimes', fontsize=14)\n",
    "fig.supylabel('Area Name', fontsize=14)\n",
    "fig.suptitle('Crimes on Victims from various Descents across different areas of LA', fontsize=14)\n",
    "# Show the plots\n",
    "plt.show()\n",
    "\n",
    "\n",
    "\n",
    "\n"
   ]
  },
  {
   "cell_type": "markdown",
   "id": "f06e97fb",
   "metadata": {},
   "source": [
    "## **Crime Classification Analysis**"
   ]
  },
  {
   "cell_type": "markdown",
   "id": "dc66de4b",
   "metadata": {},
   "source": [
    "### What are the most common types of crimes (Crm Cd Desc) reported in the dataset?"
   ]
  },
  {
   "cell_type": "code",
   "execution_count": null,
   "id": "a35bb056",
   "metadata": {},
   "outputs": [],
   "source": [
    "top_ten_crimes = data.groupby('Crm Cd Desc').size().sort_values(ascending=False).head(10).to_frame(name='count').reset_index()"
   ]
  },
  {
   "cell_type": "code",
   "execution_count": null,
   "id": "b05747d2",
   "metadata": {},
   "outputs": [],
   "source": [
    "plt.figure(figsize=(12,8))\n",
    "# Create the bar plot with Seaborn\n",
    "ax = sns.barplot(x=\"Crm Cd Desc\", y=\"count\", data=top_ten_crimes)\n",
    "\n",
    "for container in ax.containers:\n",
    "    ax.bar_label(container, fontsize=10)\n",
    "\n",
    "plt.xlabel('Types of Crime', fontsize= 12)\n",
    "plt.ylabel('Number of Crimes', fontsize= 12)\n",
    "plt.title('Top 10 types of crimes in Los Angeles (2020-2023)', fontsize= 12)\n",
    "plt.tight_layout()\n",
    "plt.xticks(rotation= 25, ha='right')\n",
    "# plt.legend(bbox_to_anchor=(1.02, 1), loc='upper left', borderaxespad=0)\n",
    "sns.despine()\n",
    "plt.show()"
   ]
  },
  {
   "cell_type": "markdown",
   "id": "42f9e949",
   "metadata": {},
   "source": [
    "### Are there any patterns or trends in the occurrence of specific types of crimes over time or across different areas? "
   ]
  },
  {
   "cell_type": "code",
   "execution_count": null,
   "id": "d85166bb",
   "metadata": {},
   "outputs": [],
   "source": [
    "crime_data_vehicle_stolen_only = data[data['Crm Cd Desc'] == 'VEHICLE - STOLEN']"
   ]
  },
  {
   "cell_type": "code",
   "execution_count": null,
   "id": "6ff9feb8",
   "metadata": {},
   "outputs": [],
   "source": [
    "\"\"\"import folium\n",
    "\n",
    "# Group data by time intervals (e.g., months)\n",
    "crime_data_vehicle_stolen_only['month_year'] = crime_data_vehicle_stolen_only['DATETIME_OCC'].dt.to_period('M')\n",
    "grouped_data = crime_data_vehicle_stolen_only.groupby('month_year')\n",
    "\n",
    "# Initialize map centered at Los Angeles\n",
    "latitude_center = 34.052235\n",
    "longitude_center = -118.243683\n",
    "\n",
    "# Initialize map centered at a location\n",
    "m = folium.Map(location=[latitude_center, longitude_center], zoom_start=10)\n",
    "\n",
    "# Iterate through each time interval\n",
    "for name, group in grouped_data:\n",
    "    # Create a feature group for each time interval\n",
    "    feature_group = folium.FeatureGroup(name=name.strftime('%Y-%m'))\n",
    "    \n",
    "    # Add markers for crime incident locations\n",
    "    for index, row in group.iterrows():\n",
    "        folium.Marker([row['LAT'], row['LON']], popup=row['Crm Cd Desc']).add_to(feature_group)\n",
    "    \n",
    "    # Add feature group to map\n",
    "    feature_group.add_to(m)\n",
    "\n",
    "# Add layer control to toggle between time intervals\n",
    "folium.LayerControl().add_to(m)\n",
    "\n",
    "# Display the map\n",
    "m\"\"\""
   ]
  },
  {
   "cell_type": "code",
   "execution_count": null,
   "id": "cfd9ee01",
   "metadata": {},
   "outputs": [],
   "source": [
    "\"\"\"import geopandas as gpd\n",
    "from shapely.geometry import Point\n",
    "import matplotlib.pyplot as plt\n",
    "import plotly.express as px\n",
    "\n",
    "# Assuming 'crime_data' is your DataFrame with columns 'latitude', 'longitude', 'timestamp', and 'crime_type'\n",
    "# Convert 'timestamp' column to datetime if it's not already in datetime format\n",
    "# crime_data['timestamp'] = pd.to_datetime(crime_data['timestamp'])\n",
    "\n",
    "# Create a GeoDataFrame from the DataFrame\n",
    "geometry = [Point(xy) for xy in zip(crime_data_vehicle_stolen_only['LON'], crime_data_vehicle_stolen_only['LAT'])]\n",
    "crime_gdf = gpd.GeoDataFrame(crime_data_vehicle_stolen_only, geometry=geometry)\n",
    "\n",
    "# Group data by crime type\n",
    "grouped_data = crime_gdf.groupby('Crm Cd Desc')\n",
    "\n",
    "# Create a scatter plot with Plotly Express\n",
    "fig = px.scatter_mapbox(crime_gdf, lat='LAT', lon='LON', color='Crm Cd Desc',\n",
    "                        hover_data=['DATETIME_OCC'], zoom=10)\n",
    "\n",
    "# Customize map layout\n",
    "fig.update_layout(mapbox_style=\"carto-positron\",\n",
    "                  mapbox_zoom=10,\n",
    "                  mapbox_center={\"lat\": 34.052235, \"lon\": -118.243683},\n",
    "                  margin={\"r\":0,\"t\":0,\"l\":0,\"b\":0})\n",
    "\n",
    "# Show interactive map\n",
    "fig.show()\"\"\""
   ]
  },
  {
   "cell_type": "markdown",
   "id": "c2e4db42",
   "metadata": {},
   "source": [
    "## **Police Response Analysis**"
   ]
  },
  {
   "cell_type": "markdown",
   "id": "d261485a",
   "metadata": {},
   "source": [
    "### How long does it typically take for crimes to be reported after they occur (Date Rptd - DATE OCC)"
   ]
  },
  {
   "cell_type": "code",
   "execution_count": null,
   "id": "f06d9746",
   "metadata": {},
   "outputs": [],
   "source": [
    "# caculate average off all crime types\n",
    "\n",
    "data.columns"
   ]
  },
  {
   "cell_type": "code",
   "execution_count": null,
   "id": "b1d6ad35",
   "metadata": {},
   "outputs": [],
   "source": [
    "data['Date Rptd'] = pd.to_datetime(data['Date Rptd'], format='%m/%d/%Y %I:%M:%S %p')"
   ]
  },
  {
   "cell_type": "code",
   "execution_count": null,
   "id": "35912f2b",
   "metadata": {},
   "outputs": [],
   "source": [
    "time_diff = data['Date Rptd'] - data['DATETIME_OCC']"
   ]
  },
  {
   "cell_type": "code",
   "execution_count": null,
   "id": "a4e4ad9a",
   "metadata": {},
   "outputs": [],
   "source": [
    "time_diff.mean()"
   ]
  },
  {
   "cell_type": "markdown",
   "id": "ffd8484e",
   "metadata": {},
   "source": [
    "The average time taken to report a crime in LA is 10 days, 11hrs when calculated across all crime types"
   ]
  },
  {
   "cell_type": "markdown",
   "id": "32a489fa",
   "metadata": {},
   "source": [
    "### Is there any correlation between the time it takes to report a crime and its severity or type?"
   ]
  },
  {
   "cell_type": "code",
   "execution_count": null,
   "id": "385c5bed",
   "metadata": {},
   "outputs": [],
   "source": [
    "# Calculate the time difference between reported and occurred dates for each observation in minutes\n",
    "data['reporting_time'] = (data['Date Rptd'] - data['DATETIME_OCC']).dt.total_seconds() / 3600\n",
    "\n",
    "# Filter out rows with negative reporting times\n",
    "reporting_df = data[data['reporting_time'] >= 0]\n",
    "\n",
    "# Group data by crime type and calculate average reporting time for each group\n",
    "average_reporting_time = reporting_df.groupby('Crm Cd Desc')['reporting_time'].mean().reset_index()\n",
    "\n",
    "# Sort DataFrame by reporting time in ascending order\n",
    "sorted_crime_data = average_reporting_time.sort_values(by='reporting_time')\n",
    "\n",
    "# Plot the crimes with the lowest reporting time in minutes\n",
    "plt.figure(figsize=(12, 8))\n",
    "ax = sns.barplot(data=sorted_crime_data.head(10), y='Crm Cd Desc', x='reporting_time', palette='coolwarm', orient='h')\n",
    "\n",
    "for container in ax.containers:\n",
    "    ax.bar_label(container, fmt='%.2f', fontsize=16)\n",
    "\n",
    "plt.title('Top 10 Crime types with Lowest Reporting Time (2020-2023)', fontsize=16)\n",
    "plt.ylabel('Crime Type', fontsize=14)\n",
    "plt.xlabel('Reporting Time (hours)', fontsize=14)\n",
    "plt.xticks(fontsize=14)\n",
    "plt.yticks(fontsize=14)                \n",
    "plt.tight_layout()\n",
    "sns.despine()\n",
    "plt.show()\n"
   ]
  },
  {
   "cell_type": "code",
   "execution_count": null,
   "id": "6d36c6b6",
   "metadata": {},
   "outputs": [],
   "source": [
    "# Calculate the time difference between reported and occurred dates for each observation in minutes\n",
    "data['reporting_time'] = (data['Date Rptd'] - data['DATETIME_OCC']).dt.days\n",
    "\n",
    "# Filter out rows with negative reporting times\n",
    "reporting_df = data[data['reporting_time'] >= 0]\n",
    "\n",
    "# Group data by crime type and calculate average reporting time for each group\n",
    "average_reporting_time = reporting_df.groupby('Crm Cd Desc')['reporting_time'].mean().reset_index()\n",
    "\n",
    "# Sort DataFrame by reporting time in ascending order\n",
    "sorted_crime_data = average_reporting_time.sort_values(by='reporting_time')\n",
    "\n",
    "# Plot the crimes with the lowest reporting time in minutes\n",
    "plt.figure(figsize=(12, 8))\n",
    "ax = sns.barplot(data=sorted_crime_data.tail(10), y='Crm Cd Desc', x='reporting_time', palette='coolwarm', orient='h')\n",
    "\n",
    "for container in ax.containers:\n",
    "    ax.bar_label(container, fmt='%.2f', fontsize=16)\n",
    "\n",
    "plt.title('Top 10 Crime types with Highest Reporting Time (2020-2023)', fontsize=16)\n",
    "plt.ylabel('Crime Type', fontsize=14)\n",
    "plt.xlabel('Reporting Time (days)', fontsize=14)\n",
    "plt.xticks( fontsize=14)\n",
    "plt.yticks( fontsize=14)\n",
    "plt.tight_layout()\n",
    "sns.despine()\n",
    "plt.show()"
   ]
  },
  {
   "cell_type": "markdown",
   "id": "d443bdfe",
   "metadata": {},
   "source": [
    "### Any relation between type of crime and arrests ? "
   ]
  },
  {
   "cell_type": "markdown",
   "id": "8f67cbf9",
   "metadata": {},
   "source": [
    "Like for what type of crimes are the perpetrators got arrested the most and for what type of crimes the perpetrators are still free (investigation is still being done)"
   ]
  },
  {
   "cell_type": "code",
   "execution_count": null,
   "id": "8c90d38e",
   "metadata": {},
   "outputs": [],
   "source": [
    "data['Status'].value_counts() # as of Feb 22, 2024"
   ]
  },
  {
   "cell_type": "code",
   "execution_count": null,
   "id": "22e9d8a1",
   "metadata": {},
   "outputs": [],
   "source": [
    "investigation_df = data[data['Status']== 'IC']"
   ]
  },
  {
   "cell_type": "code",
   "execution_count": null,
   "id": "9cdc6f42",
   "metadata": {},
   "outputs": [],
   "source": [
    "# total cases based on the crime category.\n",
    "\n",
    "crime_categories = data.groupby('Crm Cd Desc').size().sort_values(ascending = False)"
   ]
  },
  {
   "cell_type": "code",
   "execution_count": null,
   "id": "d55ecdd7",
   "metadata": {},
   "outputs": [],
   "source": [
    "crime_categories[crime_categories > 10000].head(10)"
   ]
  },
  {
   "cell_type": "code",
   "execution_count": null,
   "id": "04cccea3",
   "metadata": {},
   "outputs": [],
   "source": [
    "crime_categories[crime_categories > 10000].tail(10)"
   ]
  },
  {
   "cell_type": "code",
   "execution_count": null,
   "id": "55638ca6",
   "metadata": {},
   "outputs": [],
   "source": [
    "arrested_df = data[data['Status']!= 'IC']"
   ]
  },
  {
   "cell_type": "code",
   "execution_count": null,
   "id": "c9650db7",
   "metadata": {},
   "outputs": [],
   "source": [
    "arrested_df = arrested_df.groupby('Crm Cd Desc').size()"
   ]
  },
  {
   "cell_type": "code",
   "execution_count": null,
   "id": "dbb6bf6f",
   "metadata": {},
   "outputs": [],
   "source": [
    "arrested_df[['VEHICLE - STOLEN', 'BATTERY - SIMPLE ASSAULT', 'THEFT OF IDENTITY',\n",
    "       'BURGLARY FROM VEHICLE', 'BURGLARY',\n",
    "       'VANDALISM - FELONY ($400 & OVER, ALL CHURCH VANDALISMS)',\n",
    "       'ASSAULT WITH DEADLY WEAPON, AGGRAVATED ASSAULT',\n",
    "       'THEFT PLAIN - PETTY ($950 & UNDER)',\n",
    "       'INTIMATE PARTNER - SIMPLE ASSAULT',\n",
    "       'THEFT FROM MOTOR VEHICLE - PETTY ($950 & UNDER)','THEFT FROM MOTOR VEHICLE - GRAND ($950.01 AND OVER)', 'ROBBERY',\n",
    "       'THEFT-GRAND ($950.01 & OVER)EXCPT,GUNS,FOWL,LIVESTK,PROD',\n",
    "       'VANDALISM - MISDEAMEANOR ($399 OR UNDER)',\n",
    "       'SHOPLIFTING - PETTY THEFT ($950 & UNDER)',\n",
    "       'CRIMINAL THREATS - NO WEAPON DISPLAYED', 'BRANDISH WEAPON',\n",
    "       'TRESPASSING', 'INTIMATE PARTNER - AGGRAVATED ASSAULT',\n",
    "       'VIOLATION OF RESTRAINING ORDER']]"
   ]
  },
  {
   "cell_type": "markdown",
   "id": "d77dfcf0",
   "metadata": {},
   "source": [
    "These above block shows the crimes that were solved for top 20 crime types that have registerd cases over 10k"
   ]
  },
  {
   "cell_type": "code",
   "execution_count": null,
   "id": "3b1d17ea",
   "metadata": {},
   "outputs": [],
   "source": [
    "# Filter out cases with status != 'IC' to get the number of cases solved\n",
    "cases_solved = data[data['Status'] != 'IC'].groupby('Crm Cd Desc').size()\n",
    "\n",
    "# Total cases for each crime type\n",
    "total_cases = data.groupby('Crm Cd Desc').size()\n",
    "\n",
    "# Calculate percentage of cases solved\n",
    "percentage_solved = (cases_solved / total_cases) * 100\n",
    "\n",
    "# Create a DataFrame with the results\n",
    "result_df = pd.DataFrame({\n",
    "    'Total_Cases': total_cases,\n",
    "    'Cases_Solved': cases_solved,\n",
    "    'Percentage_Solved': percentage_solved\n",
    "})\n",
    "\n",
    "# Sort the DataFrame based on percentage of cases solved\n",
    "result_df = result_df.sort_values(by='Percentage_Solved', ascending=False)\n",
    "\n",
    "# Plot the top 10 and bottom 10 crime types based on percentage of cases solved\n",
    "# top_and_bottom_10 = pd.concat([result_df.head(10), result_df.tail(10)])\n",
    "\n",
    "# Plotting\n",
    "plt.figure(figsize=(12, 8))\n",
    "ax = sns.barplot(y=result_df.head(10).index, x='Percentage_Solved', data=result_df.head(10), palette='coolwarm', orient='h')\n",
    "\n",
    "for container in ax.containers :\n",
    "    ax.bar_label(container, fmt='%.2f%%',fontsize=16 )\n",
    "\n",
    "plt.title('Top 10 Crime Types by Highest Percentage of Cases Solved (2020-2023)',fontsize=16)\n",
    "plt.ylabel('Crime Type',fontsize=14)\n",
    "plt.xlabel('Percentage of Cases Solved',fontsize=14)\n",
    "plt.xticks(fontsize=14)\n",
    "plt.yticks(fontsize=14)\n",
    "plt.tight_layout()\n",
    "sns.despine()\n",
    "plt.show()\n"
   ]
  },
  {
   "cell_type": "code",
   "execution_count": null,
   "id": "93745a95",
   "metadata": {},
   "outputs": [],
   "source": [
    "# Plotting\n",
    "plt.figure(figsize=(12, 8))\n",
    "ax = sns.barplot(y=result_df.tail(20).head(12).index, x='Percentage_Solved', data=result_df.tail(20).head(12),\n",
    "                 palette='coolwarm', orient='h')\n",
    "\n",
    "for container in ax.containers :\n",
    "    ax.bar_label(container, fmt='%.2f%%',fontsize=16)\n",
    "\n",
    "plt.title('Top 10 Crime Types by Lowest Percentage of Cases Solved (2020-2023)',fontsize=16)\n",
    "plt.ylabel('Crime Type',fontsize=14)\n",
    "plt.xlabel('Percentage of Cases Solved',fontsize=14)\n",
    "plt.xticks(fontsize=14)\n",
    "plt.yticks(fontsize=14)\n",
    "sns.despine()\n",
    "plt.tight_layout()\n",
    "plt.show()\n"
   ]
  }
 ],
 "metadata": {
  "kernelspec": {
   "display_name": "Python 3 (ipykernel)",
   "language": "python",
   "name": "python3"
  },
  "language_info": {
   "codemirror_mode": {
    "name": "ipython",
    "version": 3
   },
   "file_extension": ".py",
   "mimetype": "text/x-python",
   "name": "python",
   "nbconvert_exporter": "python",
   "pygments_lexer": "ipython3",
   "version": "3.9.12"
  }
 },
 "nbformat": 4,
 "nbformat_minor": 5
}
